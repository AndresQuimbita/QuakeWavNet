{
 "cells": [
  {
   "cell_type": "markdown",
   "metadata": {},
   "source": [
    "Import the necessary libraries"
   ]
  },
  {
   "cell_type": "code",
   "execution_count": 1,
   "metadata": {},
   "outputs": [
    {
     "name": "stdout",
     "output_type": "stream",
     "text": [
      "Requirement already satisfied: transformers in /home/cslab03/anaconda3/envs/coEnv/lib/python3.9/site-packages (4.17.0)\n",
      "Requirement already satisfied: filelock in /home/cslab03/anaconda3/envs/coEnv/lib/python3.9/site-packages (from transformers) (3.12.2)\n",
      "Requirement already satisfied: huggingface-hub<1.0,>=0.1.0 in /home/cslab03/anaconda3/envs/coEnv/lib/python3.9/site-packages (from transformers) (0.15.1)\n",
      "Requirement already satisfied: numpy>=1.17 in /home/cslab03/anaconda3/envs/coEnv/lib/python3.9/site-packages (from transformers) (1.22.4)\n",
      "Requirement already satisfied: packaging>=20.0 in /home/cslab03/anaconda3/envs/coEnv/lib/python3.9/site-packages (from transformers) (23.1)\n",
      "Requirement already satisfied: pyyaml>=5.1 in /home/cslab03/anaconda3/envs/coEnv/lib/python3.9/site-packages (from transformers) (6.0)\n",
      "Requirement already satisfied: regex!=2019.12.17 in /home/cslab03/anaconda3/envs/coEnv/lib/python3.9/site-packages (from transformers) (2023.6.3)\n",
      "Requirement already satisfied: requests in /home/cslab03/anaconda3/envs/coEnv/lib/python3.9/site-packages (from transformers) (2.31.0)\n",
      "Requirement already satisfied: sacremoses in /home/cslab03/anaconda3/envs/coEnv/lib/python3.9/site-packages (from transformers) (0.0.53)\n",
      "Requirement already satisfied: tokenizers!=0.11.3,>=0.11.1 in /home/cslab03/anaconda3/envs/coEnv/lib/python3.9/site-packages (from transformers) (0.13.3)\n",
      "Requirement already satisfied: tqdm>=4.27 in /home/cslab03/anaconda3/envs/coEnv/lib/python3.9/site-packages (from transformers) (4.65.0)\n",
      "Requirement already satisfied: fsspec in /home/cslab03/anaconda3/envs/coEnv/lib/python3.9/site-packages (from huggingface-hub<1.0,>=0.1.0->transformers) (2023.6.0)\n",
      "Requirement already satisfied: typing-extensions>=3.7.4.3 in /home/cslab03/anaconda3/envs/coEnv/lib/python3.9/site-packages (from huggingface-hub<1.0,>=0.1.0->transformers) (4.5.0)\n",
      "Requirement already satisfied: charset-normalizer<4,>=2 in /home/cslab03/anaconda3/envs/coEnv/lib/python3.9/site-packages (from requests->transformers) (3.1.0)\n",
      "Requirement already satisfied: idna<4,>=2.5 in /home/cslab03/anaconda3/envs/coEnv/lib/python3.9/site-packages (from requests->transformers) (3.4)\n",
      "Requirement already satisfied: urllib3<3,>=1.21.1 in /home/cslab03/anaconda3/envs/coEnv/lib/python3.9/site-packages (from requests->transformers) (1.26.16)\n",
      "Requirement already satisfied: certifi>=2017.4.17 in /home/cslab03/anaconda3/envs/coEnv/lib/python3.9/site-packages (from requests->transformers) (2023.5.7)\n",
      "Requirement already satisfied: six in /home/cslab03/anaconda3/envs/coEnv/lib/python3.9/site-packages (from sacremoses->transformers) (1.16.0)\n",
      "Requirement already satisfied: click in /home/cslab03/anaconda3/envs/coEnv/lib/python3.9/site-packages (from sacremoses->transformers) (8.1.3)\n",
      "Requirement already satisfied: joblib in /home/cslab03/anaconda3/envs/coEnv/lib/python3.9/site-packages (from sacremoses->transformers) (1.3.1)\n",
      "Requirement already satisfied: ipywidgets in /home/cslab03/anaconda3/envs/coEnv/lib/python3.9/site-packages (8.0.6)\n",
      "Requirement already satisfied: ipykernel>=4.5.1 in /home/cslab03/anaconda3/envs/coEnv/lib/python3.9/site-packages (from ipywidgets) (6.23.3)\n",
      "Requirement already satisfied: ipython>=6.1.0 in /home/cslab03/anaconda3/envs/coEnv/lib/python3.9/site-packages (from ipywidgets) (8.14.0)\n",
      "Requirement already satisfied: traitlets>=4.3.1 in /home/cslab03/anaconda3/envs/coEnv/lib/python3.9/site-packages (from ipywidgets) (5.9.0)\n",
      "Requirement already satisfied: widgetsnbextension~=4.0.7 in /home/cslab03/anaconda3/envs/coEnv/lib/python3.9/site-packages (from ipywidgets) (4.0.7)\n",
      "Requirement already satisfied: jupyterlab-widgets~=3.0.7 in /home/cslab03/anaconda3/envs/coEnv/lib/python3.9/site-packages (from ipywidgets) (3.0.7)\n",
      "Requirement already satisfied: comm>=0.1.1 in /home/cslab03/anaconda3/envs/coEnv/lib/python3.9/site-packages (from ipykernel>=4.5.1->ipywidgets) (0.1.3)\n",
      "Requirement already satisfied: debugpy>=1.6.5 in /home/cslab03/anaconda3/envs/coEnv/lib/python3.9/site-packages (from ipykernel>=4.5.1->ipywidgets) (1.6.7)\n",
      "Requirement already satisfied: jupyter-client>=6.1.12 in /home/cslab03/anaconda3/envs/coEnv/lib/python3.9/site-packages (from ipykernel>=4.5.1->ipywidgets) (8.3.0)\n",
      "Requirement already satisfied: jupyter-core!=5.0.*,>=4.12 in /home/cslab03/anaconda3/envs/coEnv/lib/python3.9/site-packages (from ipykernel>=4.5.1->ipywidgets) (5.3.1)\n",
      "Requirement already satisfied: matplotlib-inline>=0.1 in /home/cslab03/anaconda3/envs/coEnv/lib/python3.9/site-packages (from ipykernel>=4.5.1->ipywidgets) (0.1.6)\n",
      "Requirement already satisfied: nest-asyncio in /home/cslab03/anaconda3/envs/coEnv/lib/python3.9/site-packages (from ipykernel>=4.5.1->ipywidgets) (1.5.6)\n",
      "Requirement already satisfied: packaging in /home/cslab03/anaconda3/envs/coEnv/lib/python3.9/site-packages (from ipykernel>=4.5.1->ipywidgets) (23.1)\n",
      "Requirement already satisfied: psutil in /home/cslab03/anaconda3/envs/coEnv/lib/python3.9/site-packages (from ipykernel>=4.5.1->ipywidgets) (5.9.5)\n",
      "Requirement already satisfied: pyzmq>=20 in /home/cslab03/anaconda3/envs/coEnv/lib/python3.9/site-packages (from ipykernel>=4.5.1->ipywidgets) (25.1.0)\n",
      "Requirement already satisfied: tornado>=6.1 in /home/cslab03/anaconda3/envs/coEnv/lib/python3.9/site-packages (from ipykernel>=4.5.1->ipywidgets) (6.3.2)\n",
      "Requirement already satisfied: backcall in /home/cslab03/anaconda3/envs/coEnv/lib/python3.9/site-packages (from ipython>=6.1.0->ipywidgets) (0.2.0)\n",
      "Requirement already satisfied: decorator in /home/cslab03/anaconda3/envs/coEnv/lib/python3.9/site-packages (from ipython>=6.1.0->ipywidgets) (5.1.1)\n",
      "Requirement already satisfied: jedi>=0.16 in /home/cslab03/anaconda3/envs/coEnv/lib/python3.9/site-packages (from ipython>=6.1.0->ipywidgets) (0.18.2)\n",
      "Requirement already satisfied: pickleshare in /home/cslab03/anaconda3/envs/coEnv/lib/python3.9/site-packages (from ipython>=6.1.0->ipywidgets) (0.7.5)\n",
      "Requirement already satisfied: prompt-toolkit!=3.0.37,<3.1.0,>=3.0.30 in /home/cslab03/anaconda3/envs/coEnv/lib/python3.9/site-packages (from ipython>=6.1.0->ipywidgets) (3.0.38)\n",
      "Requirement already satisfied: pygments>=2.4.0 in /home/cslab03/anaconda3/envs/coEnv/lib/python3.9/site-packages (from ipython>=6.1.0->ipywidgets) (2.15.1)\n",
      "Requirement already satisfied: stack-data in /home/cslab03/anaconda3/envs/coEnv/lib/python3.9/site-packages (from ipython>=6.1.0->ipywidgets) (0.6.2)\n",
      "Requirement already satisfied: typing-extensions in /home/cslab03/anaconda3/envs/coEnv/lib/python3.9/site-packages (from ipython>=6.1.0->ipywidgets) (4.5.0)\n",
      "Requirement already satisfied: pexpect>4.3 in /home/cslab03/anaconda3/envs/coEnv/lib/python3.9/site-packages (from ipython>=6.1.0->ipywidgets) (4.8.0)\n",
      "Requirement already satisfied: parso<0.9.0,>=0.8.0 in /home/cslab03/anaconda3/envs/coEnv/lib/python3.9/site-packages (from jedi>=0.16->ipython>=6.1.0->ipywidgets) (0.8.3)\n",
      "Requirement already satisfied: importlib-metadata>=4.8.3 in /home/cslab03/anaconda3/envs/coEnv/lib/python3.9/site-packages (from jupyter-client>=6.1.12->ipykernel>=4.5.1->ipywidgets) (6.7.0)\n",
      "Requirement already satisfied: python-dateutil>=2.8.2 in /home/cslab03/anaconda3/envs/coEnv/lib/python3.9/site-packages (from jupyter-client>=6.1.12->ipykernel>=4.5.1->ipywidgets) (2.8.2)\n",
      "Requirement already satisfied: platformdirs>=2.5 in /home/cslab03/anaconda3/envs/coEnv/lib/python3.9/site-packages (from jupyter-core!=5.0.*,>=4.12->ipykernel>=4.5.1->ipywidgets) (3.8.0)\n",
      "Requirement already satisfied: ptyprocess>=0.5 in /home/cslab03/anaconda3/envs/coEnv/lib/python3.9/site-packages (from pexpect>4.3->ipython>=6.1.0->ipywidgets) (0.7.0)\n",
      "Requirement already satisfied: wcwidth in /home/cslab03/anaconda3/envs/coEnv/lib/python3.9/site-packages (from prompt-toolkit!=3.0.37,<3.1.0,>=3.0.30->ipython>=6.1.0->ipywidgets) (0.2.6)\n",
      "Requirement already satisfied: executing>=1.2.0 in /home/cslab03/anaconda3/envs/coEnv/lib/python3.9/site-packages (from stack-data->ipython>=6.1.0->ipywidgets) (1.2.0)\n",
      "Requirement already satisfied: asttokens>=2.1.0 in /home/cslab03/anaconda3/envs/coEnv/lib/python3.9/site-packages (from stack-data->ipython>=6.1.0->ipywidgets) (2.2.1)\n",
      "Requirement already satisfied: pure-eval in /home/cslab03/anaconda3/envs/coEnv/lib/python3.9/site-packages (from stack-data->ipython>=6.1.0->ipywidgets) (0.2.2)\n",
      "Requirement already satisfied: six in /home/cslab03/anaconda3/envs/coEnv/lib/python3.9/site-packages (from asttokens>=2.1.0->stack-data->ipython>=6.1.0->ipywidgets) (1.16.0)\n",
      "Requirement already satisfied: zipp>=0.5 in /home/cslab03/anaconda3/envs/coEnv/lib/python3.9/site-packages (from importlib-metadata>=4.8.3->jupyter-client>=6.1.12->ipykernel>=4.5.1->ipywidgets) (3.15.0)\n",
      "Requirement already satisfied: pytorch-lightning==1.5.10 in /home/cslab03/anaconda3/envs/coEnv/lib/python3.9/site-packages (1.5.10)\n",
      "Requirement already satisfied: numpy>=1.17.2 in /home/cslab03/anaconda3/envs/coEnv/lib/python3.9/site-packages (from pytorch-lightning==1.5.10) (1.22.4)\n",
      "Requirement already satisfied: torch>=1.7.* in /home/cslab03/anaconda3/envs/coEnv/lib/python3.9/site-packages (from pytorch-lightning==1.5.10) (2.0.1)\n",
      "Requirement already satisfied: future>=0.17.1 in /home/cslab03/anaconda3/envs/coEnv/lib/python3.9/site-packages (from pytorch-lightning==1.5.10) (0.18.3)\n",
      "Requirement already satisfied: tqdm>=4.41.0 in /home/cslab03/anaconda3/envs/coEnv/lib/python3.9/site-packages (from pytorch-lightning==1.5.10) (4.65.0)\n",
      "Requirement already satisfied: PyYAML>=5.1 in /home/cslab03/anaconda3/envs/coEnv/lib/python3.9/site-packages (from pytorch-lightning==1.5.10) (6.0)\n",
      "Requirement already satisfied: fsspec[http]!=2021.06.0,>=2021.05.0 in /home/cslab03/anaconda3/envs/coEnv/lib/python3.9/site-packages (from pytorch-lightning==1.5.10) (2023.6.0)\n",
      "Requirement already satisfied: tensorboard>=2.2.0 in /home/cslab03/anaconda3/envs/coEnv/lib/python3.9/site-packages (from pytorch-lightning==1.5.10) (2.13.0)\n",
      "Requirement already satisfied: torchmetrics>=0.4.1 in /home/cslab03/anaconda3/envs/coEnv/lib/python3.9/site-packages (from pytorch-lightning==1.5.10) (0.11.4)\n",
      "Requirement already satisfied: pyDeprecate==0.3.1 in /home/cslab03/anaconda3/envs/coEnv/lib/python3.9/site-packages (from pytorch-lightning==1.5.10) (0.3.1)\n",
      "Requirement already satisfied: packaging>=17.0 in /home/cslab03/anaconda3/envs/coEnv/lib/python3.9/site-packages (from pytorch-lightning==1.5.10) (23.1)\n",
      "Requirement already satisfied: typing-extensions in /home/cslab03/anaconda3/envs/coEnv/lib/python3.9/site-packages (from pytorch-lightning==1.5.10) (4.5.0)\n",
      "Requirement already satisfied: setuptools==59.5.0 in /home/cslab03/anaconda3/envs/coEnv/lib/python3.9/site-packages (from pytorch-lightning==1.5.10) (59.5.0)\n",
      "Requirement already satisfied: requests in /home/cslab03/anaconda3/envs/coEnv/lib/python3.9/site-packages (from fsspec[http]!=2021.06.0,>=2021.05.0->pytorch-lightning==1.5.10) (2.31.0)\n",
      "Requirement already satisfied: aiohttp!=4.0.0a0,!=4.0.0a1 in /home/cslab03/anaconda3/envs/coEnv/lib/python3.9/site-packages (from fsspec[http]!=2021.06.0,>=2021.05.0->pytorch-lightning==1.5.10) (3.8.4)\n",
      "Requirement already satisfied: absl-py>=0.4 in /home/cslab03/anaconda3/envs/coEnv/lib/python3.9/site-packages (from tensorboard>=2.2.0->pytorch-lightning==1.5.10) (1.4.0)\n",
      "Requirement already satisfied: grpcio>=1.48.2 in /home/cslab03/anaconda3/envs/coEnv/lib/python3.9/site-packages (from tensorboard>=2.2.0->pytorch-lightning==1.5.10) (1.56.0)\n",
      "Requirement already satisfied: google-auth<3,>=1.6.3 in /home/cslab03/anaconda3/envs/coEnv/lib/python3.9/site-packages (from tensorboard>=2.2.0->pytorch-lightning==1.5.10) (2.21.0)\n",
      "Requirement already satisfied: google-auth-oauthlib<1.1,>=0.5 in /home/cslab03/anaconda3/envs/coEnv/lib/python3.9/site-packages (from tensorboard>=2.2.0->pytorch-lightning==1.5.10) (1.0.0)\n",
      "Requirement already satisfied: markdown>=2.6.8 in /home/cslab03/anaconda3/envs/coEnv/lib/python3.9/site-packages (from tensorboard>=2.2.0->pytorch-lightning==1.5.10) (3.4.3)\n",
      "Requirement already satisfied: protobuf>=3.19.6 in /home/cslab03/anaconda3/envs/coEnv/lib/python3.9/site-packages (from tensorboard>=2.2.0->pytorch-lightning==1.5.10) (4.23.3)\n",
      "Requirement already satisfied: tensorboard-data-server<0.8.0,>=0.7.0 in /home/cslab03/anaconda3/envs/coEnv/lib/python3.9/site-packages (from tensorboard>=2.2.0->pytorch-lightning==1.5.10) (0.7.1)\n",
      "Requirement already satisfied: werkzeug>=1.0.1 in /home/cslab03/anaconda3/envs/coEnv/lib/python3.9/site-packages (from tensorboard>=2.2.0->pytorch-lightning==1.5.10) (2.3.6)\n",
      "Requirement already satisfied: wheel>=0.26 in /home/cslab03/anaconda3/envs/coEnv/lib/python3.9/site-packages (from tensorboard>=2.2.0->pytorch-lightning==1.5.10) (0.40.0)\n",
      "Requirement already satisfied: filelock in /home/cslab03/anaconda3/envs/coEnv/lib/python3.9/site-packages (from torch>=1.7.*->pytorch-lightning==1.5.10) (3.12.2)\n",
      "Requirement already satisfied: sympy in /home/cslab03/anaconda3/envs/coEnv/lib/python3.9/site-packages (from torch>=1.7.*->pytorch-lightning==1.5.10) (1.12)\n",
      "Requirement already satisfied: networkx in /home/cslab03/anaconda3/envs/coEnv/lib/python3.9/site-packages (from torch>=1.7.*->pytorch-lightning==1.5.10) (3.1)\n",
      "Requirement already satisfied: jinja2 in /home/cslab03/anaconda3/envs/coEnv/lib/python3.9/site-packages (from torch>=1.7.*->pytorch-lightning==1.5.10) (3.1.2)\n",
      "Requirement already satisfied: nvidia-cuda-nvrtc-cu11==11.7.99 in /home/cslab03/anaconda3/envs/coEnv/lib/python3.9/site-packages (from torch>=1.7.*->pytorch-lightning==1.5.10) (11.7.99)\n",
      "Requirement already satisfied: nvidia-cuda-runtime-cu11==11.7.99 in /home/cslab03/anaconda3/envs/coEnv/lib/python3.9/site-packages (from torch>=1.7.*->pytorch-lightning==1.5.10) (11.7.99)\n",
      "Requirement already satisfied: nvidia-cuda-cupti-cu11==11.7.101 in /home/cslab03/anaconda3/envs/coEnv/lib/python3.9/site-packages (from torch>=1.7.*->pytorch-lightning==1.5.10) (11.7.101)\n",
      "Requirement already satisfied: nvidia-cudnn-cu11==8.5.0.96 in /home/cslab03/anaconda3/envs/coEnv/lib/python3.9/site-packages (from torch>=1.7.*->pytorch-lightning==1.5.10) (8.5.0.96)\n",
      "Requirement already satisfied: nvidia-cublas-cu11==11.10.3.66 in /home/cslab03/anaconda3/envs/coEnv/lib/python3.9/site-packages (from torch>=1.7.*->pytorch-lightning==1.5.10) (11.10.3.66)\n",
      "Requirement already satisfied: nvidia-cufft-cu11==10.9.0.58 in /home/cslab03/anaconda3/envs/coEnv/lib/python3.9/site-packages (from torch>=1.7.*->pytorch-lightning==1.5.10) (10.9.0.58)\n",
      "Requirement already satisfied: nvidia-curand-cu11==10.2.10.91 in /home/cslab03/anaconda3/envs/coEnv/lib/python3.9/site-packages (from torch>=1.7.*->pytorch-lightning==1.5.10) (10.2.10.91)\n",
      "Requirement already satisfied: nvidia-cusolver-cu11==11.4.0.1 in /home/cslab03/anaconda3/envs/coEnv/lib/python3.9/site-packages (from torch>=1.7.*->pytorch-lightning==1.5.10) (11.4.0.1)\n",
      "Requirement already satisfied: nvidia-cusparse-cu11==11.7.4.91 in /home/cslab03/anaconda3/envs/coEnv/lib/python3.9/site-packages (from torch>=1.7.*->pytorch-lightning==1.5.10) (11.7.4.91)\n",
      "Requirement already satisfied: nvidia-nccl-cu11==2.14.3 in /home/cslab03/anaconda3/envs/coEnv/lib/python3.9/site-packages (from torch>=1.7.*->pytorch-lightning==1.5.10) (2.14.3)\n",
      "Requirement already satisfied: nvidia-nvtx-cu11==11.7.91 in /home/cslab03/anaconda3/envs/coEnv/lib/python3.9/site-packages (from torch>=1.7.*->pytorch-lightning==1.5.10) (11.7.91)\n",
      "Requirement already satisfied: triton==2.0.0 in /home/cslab03/anaconda3/envs/coEnv/lib/python3.9/site-packages (from torch>=1.7.*->pytorch-lightning==1.5.10) (2.0.0)\n",
      "Requirement already satisfied: cmake in /home/cslab03/anaconda3/envs/coEnv/lib/python3.9/site-packages (from triton==2.0.0->torch>=1.7.*->pytorch-lightning==1.5.10) (3.26.4)\n",
      "Requirement already satisfied: lit in /home/cslab03/anaconda3/envs/coEnv/lib/python3.9/site-packages (from triton==2.0.0->torch>=1.7.*->pytorch-lightning==1.5.10) (16.0.6)\n",
      "Requirement already satisfied: attrs>=17.3.0 in /home/cslab03/anaconda3/envs/coEnv/lib/python3.9/site-packages (from aiohttp!=4.0.0a0,!=4.0.0a1->fsspec[http]!=2021.06.0,>=2021.05.0->pytorch-lightning==1.5.10) (23.1.0)\n",
      "Requirement already satisfied: charset-normalizer<4.0,>=2.0 in /home/cslab03/anaconda3/envs/coEnv/lib/python3.9/site-packages (from aiohttp!=4.0.0a0,!=4.0.0a1->fsspec[http]!=2021.06.0,>=2021.05.0->pytorch-lightning==1.5.10) (3.1.0)\n",
      "Requirement already satisfied: multidict<7.0,>=4.5 in /home/cslab03/anaconda3/envs/coEnv/lib/python3.9/site-packages (from aiohttp!=4.0.0a0,!=4.0.0a1->fsspec[http]!=2021.06.0,>=2021.05.0->pytorch-lightning==1.5.10) (6.0.4)\n",
      "Requirement already satisfied: async-timeout<5.0,>=4.0.0a3 in /home/cslab03/anaconda3/envs/coEnv/lib/python3.9/site-packages (from aiohttp!=4.0.0a0,!=4.0.0a1->fsspec[http]!=2021.06.0,>=2021.05.0->pytorch-lightning==1.5.10) (4.0.2)\n",
      "Requirement already satisfied: yarl<2.0,>=1.0 in /home/cslab03/anaconda3/envs/coEnv/lib/python3.9/site-packages (from aiohttp!=4.0.0a0,!=4.0.0a1->fsspec[http]!=2021.06.0,>=2021.05.0->pytorch-lightning==1.5.10) (1.9.2)\n",
      "Requirement already satisfied: frozenlist>=1.1.1 in /home/cslab03/anaconda3/envs/coEnv/lib/python3.9/site-packages (from aiohttp!=4.0.0a0,!=4.0.0a1->fsspec[http]!=2021.06.0,>=2021.05.0->pytorch-lightning==1.5.10) (1.3.3)\n",
      "Requirement already satisfied: aiosignal>=1.1.2 in /home/cslab03/anaconda3/envs/coEnv/lib/python3.9/site-packages (from aiohttp!=4.0.0a0,!=4.0.0a1->fsspec[http]!=2021.06.0,>=2021.05.0->pytorch-lightning==1.5.10) (1.3.1)\n",
      "Requirement already satisfied: cachetools<6.0,>=2.0.0 in /home/cslab03/anaconda3/envs/coEnv/lib/python3.9/site-packages (from google-auth<3,>=1.6.3->tensorboard>=2.2.0->pytorch-lightning==1.5.10) (5.3.1)\n",
      "Requirement already satisfied: pyasn1-modules>=0.2.1 in /home/cslab03/anaconda3/envs/coEnv/lib/python3.9/site-packages (from google-auth<3,>=1.6.3->tensorboard>=2.2.0->pytorch-lightning==1.5.10) (0.3.0)\n",
      "Requirement already satisfied: rsa<5,>=3.1.4 in /home/cslab03/anaconda3/envs/coEnv/lib/python3.9/site-packages (from google-auth<3,>=1.6.3->tensorboard>=2.2.0->pytorch-lightning==1.5.10) (4.9)\n",
      "Requirement already satisfied: six>=1.9.0 in /home/cslab03/anaconda3/envs/coEnv/lib/python3.9/site-packages (from google-auth<3,>=1.6.3->tensorboard>=2.2.0->pytorch-lightning==1.5.10) (1.16.0)\n",
      "Requirement already satisfied: urllib3<2.0 in /home/cslab03/anaconda3/envs/coEnv/lib/python3.9/site-packages (from google-auth<3,>=1.6.3->tensorboard>=2.2.0->pytorch-lightning==1.5.10) (1.26.16)\n",
      "Requirement already satisfied: requests-oauthlib>=0.7.0 in /home/cslab03/anaconda3/envs/coEnv/lib/python3.9/site-packages (from google-auth-oauthlib<1.1,>=0.5->tensorboard>=2.2.0->pytorch-lightning==1.5.10) (1.3.1)\n",
      "Requirement already satisfied: importlib-metadata>=4.4 in /home/cslab03/anaconda3/envs/coEnv/lib/python3.9/site-packages (from markdown>=2.6.8->tensorboard>=2.2.0->pytorch-lightning==1.5.10) (6.7.0)\n",
      "Requirement already satisfied: idna<4,>=2.5 in /home/cslab03/anaconda3/envs/coEnv/lib/python3.9/site-packages (from requests->fsspec[http]!=2021.06.0,>=2021.05.0->pytorch-lightning==1.5.10) (3.4)\n",
      "Requirement already satisfied: certifi>=2017.4.17 in /home/cslab03/anaconda3/envs/coEnv/lib/python3.9/site-packages (from requests->fsspec[http]!=2021.06.0,>=2021.05.0->pytorch-lightning==1.5.10) (2023.5.7)\n",
      "Requirement already satisfied: MarkupSafe>=2.1.1 in /home/cslab03/anaconda3/envs/coEnv/lib/python3.9/site-packages (from werkzeug>=1.0.1->tensorboard>=2.2.0->pytorch-lightning==1.5.10) (2.1.3)\n",
      "Requirement already satisfied: mpmath>=0.19 in /home/cslab03/anaconda3/envs/coEnv/lib/python3.9/site-packages (from sympy->torch>=1.7.*->pytorch-lightning==1.5.10) (1.3.0)\n",
      "Requirement already satisfied: zipp>=0.5 in /home/cslab03/anaconda3/envs/coEnv/lib/python3.9/site-packages (from importlib-metadata>=4.4->markdown>=2.6.8->tensorboard>=2.2.0->pytorch-lightning==1.5.10) (3.15.0)\n",
      "Requirement already satisfied: pyasn1<0.6.0,>=0.4.6 in /home/cslab03/anaconda3/envs/coEnv/lib/python3.9/site-packages (from pyasn1-modules>=0.2.1->google-auth<3,>=1.6.3->tensorboard>=2.2.0->pytorch-lightning==1.5.10) (0.5.0)\n",
      "Requirement already satisfied: oauthlib>=3.0.0 in /home/cslab03/anaconda3/envs/coEnv/lib/python3.9/site-packages (from requests-oauthlib>=0.7.0->google-auth-oauthlib<1.1,>=0.5->tensorboard>=2.2.0->pytorch-lightning==1.5.10) (3.2.2)\n",
      "Requirement already satisfied: nvidia-ml-py3 in /home/cslab03/anaconda3/envs/coEnv/lib/python3.9/site-packages (7.352.0)\n",
      "Requirement already satisfied: neptune-client in /home/cslab03/anaconda3/envs/coEnv/lib/python3.9/site-packages (1.3.1)\n",
      "Requirement already satisfied: GitPython>=2.0.8 in /home/cslab03/anaconda3/envs/coEnv/lib/python3.9/site-packages (from neptune-client) (3.1.31)\n",
      "Requirement already satisfied: Pillow>=1.1.6 in /home/cslab03/anaconda3/envs/coEnv/lib/python3.9/site-packages (from neptune-client) (9.5.0)\n",
      "Requirement already satisfied: PyJWT in /home/cslab03/anaconda3/envs/coEnv/lib/python3.9/site-packages (from neptune-client) (2.7.0)\n",
      "Requirement already satisfied: boto3>=1.16.0 in /home/cslab03/anaconda3/envs/coEnv/lib/python3.9/site-packages (from neptune-client) (1.26.165)\n",
      "Requirement already satisfied: bravado<12.0.0,>=11.0.0 in /home/cslab03/anaconda3/envs/coEnv/lib/python3.9/site-packages (from neptune-client) (11.0.3)\n",
      "Requirement already satisfied: click>=7.0 in /home/cslab03/anaconda3/envs/coEnv/lib/python3.9/site-packages (from neptune-client) (8.1.3)\n",
      "Requirement already satisfied: future>=0.17.1 in /home/cslab03/anaconda3/envs/coEnv/lib/python3.9/site-packages (from neptune-client) (0.18.3)\n",
      "Requirement already satisfied: oauthlib>=2.1.0 in /home/cslab03/anaconda3/envs/coEnv/lib/python3.9/site-packages (from neptune-client) (3.2.2)\n",
      "Requirement already satisfied: packaging in /home/cslab03/anaconda3/envs/coEnv/lib/python3.9/site-packages (from neptune-client) (23.1)\n",
      "Requirement already satisfied: pandas in /home/cslab03/anaconda3/envs/coEnv/lib/python3.9/site-packages (from neptune-client) (1.2.4)\n",
      "Requirement already satisfied: psutil in /home/cslab03/anaconda3/envs/coEnv/lib/python3.9/site-packages (from neptune-client) (5.9.5)\n",
      "Requirement already satisfied: requests>=2.20.0 in /home/cslab03/anaconda3/envs/coEnv/lib/python3.9/site-packages (from neptune-client) (2.31.0)\n",
      "Requirement already satisfied: requests-oauthlib>=1.0.0 in /home/cslab03/anaconda3/envs/coEnv/lib/python3.9/site-packages (from neptune-client) (1.3.1)\n",
      "Requirement already satisfied: six>=1.12.0 in /home/cslab03/anaconda3/envs/coEnv/lib/python3.9/site-packages (from neptune-client) (1.16.0)\n",
      "Requirement already satisfied: swagger-spec-validator>=2.7.4 in /home/cslab03/anaconda3/envs/coEnv/lib/python3.9/site-packages (from neptune-client) (3.0.3)\n",
      "Requirement already satisfied: urllib3 in /home/cslab03/anaconda3/envs/coEnv/lib/python3.9/site-packages (from neptune-client) (1.26.16)\n",
      "Requirement already satisfied: websocket-client!=1.0.0,>=0.35.0 in /home/cslab03/anaconda3/envs/coEnv/lib/python3.9/site-packages (from neptune-client) (1.6.1)\n",
      "Requirement already satisfied: botocore<1.30.0,>=1.29.165 in /home/cslab03/anaconda3/envs/coEnv/lib/python3.9/site-packages (from boto3>=1.16.0->neptune-client) (1.29.165)\n",
      "Requirement already satisfied: jmespath<2.0.0,>=0.7.1 in /home/cslab03/anaconda3/envs/coEnv/lib/python3.9/site-packages (from boto3>=1.16.0->neptune-client) (1.0.1)\n",
      "Requirement already satisfied: s3transfer<0.7.0,>=0.6.0 in /home/cslab03/anaconda3/envs/coEnv/lib/python3.9/site-packages (from boto3>=1.16.0->neptune-client) (0.6.1)\n",
      "Requirement already satisfied: bravado-core>=5.16.1 in /home/cslab03/anaconda3/envs/coEnv/lib/python3.9/site-packages (from bravado<12.0.0,>=11.0.0->neptune-client) (5.17.1)\n",
      "Requirement already satisfied: msgpack in /home/cslab03/anaconda3/envs/coEnv/lib/python3.9/site-packages (from bravado<12.0.0,>=11.0.0->neptune-client) (1.0.5)\n",
      "Requirement already satisfied: python-dateutil in /home/cslab03/anaconda3/envs/coEnv/lib/python3.9/site-packages (from bravado<12.0.0,>=11.0.0->neptune-client) (2.8.2)\n",
      "Requirement already satisfied: pyyaml in /home/cslab03/anaconda3/envs/coEnv/lib/python3.9/site-packages (from bravado<12.0.0,>=11.0.0->neptune-client) (6.0)\n",
      "Requirement already satisfied: simplejson in /home/cslab03/anaconda3/envs/coEnv/lib/python3.9/site-packages (from bravado<12.0.0,>=11.0.0->neptune-client) (3.19.1)\n",
      "Requirement already satisfied: monotonic in /home/cslab03/anaconda3/envs/coEnv/lib/python3.9/site-packages (from bravado<12.0.0,>=11.0.0->neptune-client) (1.6)\n",
      "Requirement already satisfied: typing-extensions in /home/cslab03/anaconda3/envs/coEnv/lib/python3.9/site-packages (from bravado<12.0.0,>=11.0.0->neptune-client) (4.5.0)\n",
      "Requirement already satisfied: gitdb<5,>=4.0.1 in /home/cslab03/anaconda3/envs/coEnv/lib/python3.9/site-packages (from GitPython>=2.0.8->neptune-client) (4.0.10)\n",
      "Requirement already satisfied: charset-normalizer<4,>=2 in /home/cslab03/anaconda3/envs/coEnv/lib/python3.9/site-packages (from requests>=2.20.0->neptune-client) (3.1.0)\n",
      "Requirement already satisfied: idna<4,>=2.5 in /home/cslab03/anaconda3/envs/coEnv/lib/python3.9/site-packages (from requests>=2.20.0->neptune-client) (3.4)\n",
      "Requirement already satisfied: certifi>=2017.4.17 in /home/cslab03/anaconda3/envs/coEnv/lib/python3.9/site-packages (from requests>=2.20.0->neptune-client) (2023.5.7)\n",
      "Requirement already satisfied: jsonschema in /home/cslab03/anaconda3/envs/coEnv/lib/python3.9/site-packages (from swagger-spec-validator>=2.7.4->neptune-client) (4.17.3)\n",
      "Requirement already satisfied: pytz>=2017.3 in /home/cslab03/anaconda3/envs/coEnv/lib/python3.9/site-packages (from pandas->neptune-client) (2023.3)\n",
      "Requirement already satisfied: numpy>=1.16.5 in /home/cslab03/anaconda3/envs/coEnv/lib/python3.9/site-packages (from pandas->neptune-client) (1.22.4)\n",
      "Requirement already satisfied: jsonref in /home/cslab03/anaconda3/envs/coEnv/lib/python3.9/site-packages (from bravado-core>=5.16.1->bravado<12.0.0,>=11.0.0->neptune-client) (1.1.0)\n",
      "Requirement already satisfied: smmap<6,>=3.0.1 in /home/cslab03/anaconda3/envs/coEnv/lib/python3.9/site-packages (from gitdb<5,>=4.0.1->GitPython>=2.0.8->neptune-client) (5.0.0)\n",
      "Requirement already satisfied: attrs>=17.4.0 in /home/cslab03/anaconda3/envs/coEnv/lib/python3.9/site-packages (from jsonschema->swagger-spec-validator>=2.7.4->neptune-client) (23.1.0)\n",
      "Requirement already satisfied: pyrsistent!=0.17.0,!=0.17.1,!=0.17.2,>=0.14.0 in /home/cslab03/anaconda3/envs/coEnv/lib/python3.9/site-packages (from jsonschema->swagger-spec-validator>=2.7.4->neptune-client) (0.19.3)\n",
      "Requirement already satisfied: fqdn in /home/cslab03/anaconda3/envs/coEnv/lib/python3.9/site-packages (from jsonschema->swagger-spec-validator>=2.7.4->neptune-client) (1.5.1)\n",
      "Requirement already satisfied: isoduration in /home/cslab03/anaconda3/envs/coEnv/lib/python3.9/site-packages (from jsonschema->swagger-spec-validator>=2.7.4->neptune-client) (20.11.0)\n",
      "Requirement already satisfied: jsonpointer>1.13 in /home/cslab03/anaconda3/envs/coEnv/lib/python3.9/site-packages (from jsonschema->swagger-spec-validator>=2.7.4->neptune-client) (2.4)\n",
      "Requirement already satisfied: rfc3339-validator in /home/cslab03/anaconda3/envs/coEnv/lib/python3.9/site-packages (from jsonschema->swagger-spec-validator>=2.7.4->neptune-client) (0.1.4)\n",
      "Requirement already satisfied: rfc3987 in /home/cslab03/anaconda3/envs/coEnv/lib/python3.9/site-packages (from jsonschema->swagger-spec-validator>=2.7.4->neptune-client) (1.3.8)\n",
      "Requirement already satisfied: uri-template in /home/cslab03/anaconda3/envs/coEnv/lib/python3.9/site-packages (from jsonschema->swagger-spec-validator>=2.7.4->neptune-client) (1.3.0)\n",
      "Requirement already satisfied: webcolors>=1.11 in /home/cslab03/anaconda3/envs/coEnv/lib/python3.9/site-packages (from jsonschema->swagger-spec-validator>=2.7.4->neptune-client) (1.13)\n",
      "Requirement already satisfied: arrow>=0.15.0 in /home/cslab03/anaconda3/envs/coEnv/lib/python3.9/site-packages (from isoduration->jsonschema->swagger-spec-validator>=2.7.4->neptune-client) (1.2.3)\n",
      "Requirement already satisfied: lightning-bolts in /home/cslab03/anaconda3/envs/coEnv/lib/python3.9/site-packages (0.7.0)\n",
      "Requirement already satisfied: numpy in /home/cslab03/anaconda3/envs/coEnv/lib/python3.9/site-packages (from lightning-bolts) (1.22.4)\n",
      "Collecting pytorch-lightning<2.0.0,>1.7.0 (from lightning-bolts)\n",
      "  Using cached pytorch_lightning-1.9.5-py3-none-any.whl (829 kB)\n",
      "Requirement already satisfied: torchmetrics in /home/cslab03/anaconda3/envs/coEnv/lib/python3.9/site-packages (from lightning-bolts) (0.11.4)\n",
      "Requirement already satisfied: lightning-utilities>0.3.1 in /home/cslab03/anaconda3/envs/coEnv/lib/python3.9/site-packages (from lightning-bolts) (0.9.0)\n",
      "Requirement already satisfied: torchvision>=0.10.0 in /home/cslab03/anaconda3/envs/coEnv/lib/python3.9/site-packages (from lightning-bolts) (0.15.2)\n",
      "Requirement already satisfied: tensorboard>=2.9.1 in /home/cslab03/anaconda3/envs/coEnv/lib/python3.9/site-packages (from lightning-bolts) (2.13.0)\n",
      "Requirement already satisfied: packaging>=17.1 in /home/cslab03/anaconda3/envs/coEnv/lib/python3.9/site-packages (from lightning-utilities>0.3.1->lightning-bolts) (23.1)\n",
      "Requirement already satisfied: typing-extensions in /home/cslab03/anaconda3/envs/coEnv/lib/python3.9/site-packages (from lightning-utilities>0.3.1->lightning-bolts) (4.5.0)\n",
      "Requirement already satisfied: torch>=1.10.0 in /home/cslab03/anaconda3/envs/coEnv/lib/python3.9/site-packages (from pytorch-lightning<2.0.0,>1.7.0->lightning-bolts) (2.0.1)\n",
      "Requirement already satisfied: tqdm>=4.57.0 in /home/cslab03/anaconda3/envs/coEnv/lib/python3.9/site-packages (from pytorch-lightning<2.0.0,>1.7.0->lightning-bolts) (4.65.0)\n",
      "Requirement already satisfied: PyYAML>=5.4 in /home/cslab03/anaconda3/envs/coEnv/lib/python3.9/site-packages (from pytorch-lightning<2.0.0,>1.7.0->lightning-bolts) (6.0)\n",
      "Requirement already satisfied: fsspec[http]>2021.06.0 in /home/cslab03/anaconda3/envs/coEnv/lib/python3.9/site-packages (from pytorch-lightning<2.0.0,>1.7.0->lightning-bolts) (2023.6.0)\n",
      "Requirement already satisfied: absl-py>=0.4 in /home/cslab03/anaconda3/envs/coEnv/lib/python3.9/site-packages (from tensorboard>=2.9.1->lightning-bolts) (1.4.0)\n",
      "Requirement already satisfied: grpcio>=1.48.2 in /home/cslab03/anaconda3/envs/coEnv/lib/python3.9/site-packages (from tensorboard>=2.9.1->lightning-bolts) (1.56.0)\n",
      "Requirement already satisfied: google-auth<3,>=1.6.3 in /home/cslab03/anaconda3/envs/coEnv/lib/python3.9/site-packages (from tensorboard>=2.9.1->lightning-bolts) (2.21.0)\n",
      "Requirement already satisfied: google-auth-oauthlib<1.1,>=0.5 in /home/cslab03/anaconda3/envs/coEnv/lib/python3.9/site-packages (from tensorboard>=2.9.1->lightning-bolts) (1.0.0)\n",
      "Requirement already satisfied: markdown>=2.6.8 in /home/cslab03/anaconda3/envs/coEnv/lib/python3.9/site-packages (from tensorboard>=2.9.1->lightning-bolts) (3.4.3)\n",
      "Requirement already satisfied: protobuf>=3.19.6 in /home/cslab03/anaconda3/envs/coEnv/lib/python3.9/site-packages (from tensorboard>=2.9.1->lightning-bolts) (4.23.3)\n",
      "Requirement already satisfied: requests<3,>=2.21.0 in /home/cslab03/anaconda3/envs/coEnv/lib/python3.9/site-packages (from tensorboard>=2.9.1->lightning-bolts) (2.31.0)\n",
      "Requirement already satisfied: setuptools>=41.0.0 in /home/cslab03/anaconda3/envs/coEnv/lib/python3.9/site-packages (from tensorboard>=2.9.1->lightning-bolts) (59.5.0)\n",
      "Requirement already satisfied: tensorboard-data-server<0.8.0,>=0.7.0 in /home/cslab03/anaconda3/envs/coEnv/lib/python3.9/site-packages (from tensorboard>=2.9.1->lightning-bolts) (0.7.1)\n",
      "Requirement already satisfied: werkzeug>=1.0.1 in /home/cslab03/anaconda3/envs/coEnv/lib/python3.9/site-packages (from tensorboard>=2.9.1->lightning-bolts) (2.3.6)\n",
      "Requirement already satisfied: wheel>=0.26 in /home/cslab03/anaconda3/envs/coEnv/lib/python3.9/site-packages (from tensorboard>=2.9.1->lightning-bolts) (0.40.0)\n",
      "Requirement already satisfied: pillow!=8.3.*,>=5.3.0 in /home/cslab03/anaconda3/envs/coEnv/lib/python3.9/site-packages (from torchvision>=0.10.0->lightning-bolts) (9.5.0)\n",
      "Requirement already satisfied: filelock in /home/cslab03/anaconda3/envs/coEnv/lib/python3.9/site-packages (from torch>=1.10.0->pytorch-lightning<2.0.0,>1.7.0->lightning-bolts) (3.12.2)\n",
      "Requirement already satisfied: sympy in /home/cslab03/anaconda3/envs/coEnv/lib/python3.9/site-packages (from torch>=1.10.0->pytorch-lightning<2.0.0,>1.7.0->lightning-bolts) (1.12)\n",
      "Requirement already satisfied: networkx in /home/cslab03/anaconda3/envs/coEnv/lib/python3.9/site-packages (from torch>=1.10.0->pytorch-lightning<2.0.0,>1.7.0->lightning-bolts) (3.1)\n",
      "Requirement already satisfied: jinja2 in /home/cslab03/anaconda3/envs/coEnv/lib/python3.9/site-packages (from torch>=1.10.0->pytorch-lightning<2.0.0,>1.7.0->lightning-bolts) (3.1.2)\n",
      "Requirement already satisfied: nvidia-cuda-nvrtc-cu11==11.7.99 in /home/cslab03/anaconda3/envs/coEnv/lib/python3.9/site-packages (from torch>=1.10.0->pytorch-lightning<2.0.0,>1.7.0->lightning-bolts) (11.7.99)\n",
      "Requirement already satisfied: nvidia-cuda-runtime-cu11==11.7.99 in /home/cslab03/anaconda3/envs/coEnv/lib/python3.9/site-packages (from torch>=1.10.0->pytorch-lightning<2.0.0,>1.7.0->lightning-bolts) (11.7.99)\n",
      "Requirement already satisfied: nvidia-cuda-cupti-cu11==11.7.101 in /home/cslab03/anaconda3/envs/coEnv/lib/python3.9/site-packages (from torch>=1.10.0->pytorch-lightning<2.0.0,>1.7.0->lightning-bolts) (11.7.101)\n",
      "Requirement already satisfied: nvidia-cudnn-cu11==8.5.0.96 in /home/cslab03/anaconda3/envs/coEnv/lib/python3.9/site-packages (from torch>=1.10.0->pytorch-lightning<2.0.0,>1.7.0->lightning-bolts) (8.5.0.96)\n",
      "Requirement already satisfied: nvidia-cublas-cu11==11.10.3.66 in /home/cslab03/anaconda3/envs/coEnv/lib/python3.9/site-packages (from torch>=1.10.0->pytorch-lightning<2.0.0,>1.7.0->lightning-bolts) (11.10.3.66)\n",
      "Requirement already satisfied: nvidia-cufft-cu11==10.9.0.58 in /home/cslab03/anaconda3/envs/coEnv/lib/python3.9/site-packages (from torch>=1.10.0->pytorch-lightning<2.0.0,>1.7.0->lightning-bolts) (10.9.0.58)\n",
      "Requirement already satisfied: nvidia-curand-cu11==10.2.10.91 in /home/cslab03/anaconda3/envs/coEnv/lib/python3.9/site-packages (from torch>=1.10.0->pytorch-lightning<2.0.0,>1.7.0->lightning-bolts) (10.2.10.91)\n",
      "Requirement already satisfied: nvidia-cusolver-cu11==11.4.0.1 in /home/cslab03/anaconda3/envs/coEnv/lib/python3.9/site-packages (from torch>=1.10.0->pytorch-lightning<2.0.0,>1.7.0->lightning-bolts) (11.4.0.1)\n",
      "Requirement already satisfied: nvidia-cusparse-cu11==11.7.4.91 in /home/cslab03/anaconda3/envs/coEnv/lib/python3.9/site-packages (from torch>=1.10.0->pytorch-lightning<2.0.0,>1.7.0->lightning-bolts) (11.7.4.91)\n",
      "Requirement already satisfied: nvidia-nccl-cu11==2.14.3 in /home/cslab03/anaconda3/envs/coEnv/lib/python3.9/site-packages (from torch>=1.10.0->pytorch-lightning<2.0.0,>1.7.0->lightning-bolts) (2.14.3)\n",
      "Requirement already satisfied: nvidia-nvtx-cu11==11.7.91 in /home/cslab03/anaconda3/envs/coEnv/lib/python3.9/site-packages (from torch>=1.10.0->pytorch-lightning<2.0.0,>1.7.0->lightning-bolts) (11.7.91)\n",
      "Requirement already satisfied: triton==2.0.0 in /home/cslab03/anaconda3/envs/coEnv/lib/python3.9/site-packages (from torch>=1.10.0->pytorch-lightning<2.0.0,>1.7.0->lightning-bolts) (2.0.0)\n",
      "Requirement already satisfied: cmake in /home/cslab03/anaconda3/envs/coEnv/lib/python3.9/site-packages (from triton==2.0.0->torch>=1.10.0->pytorch-lightning<2.0.0,>1.7.0->lightning-bolts) (3.26.4)\n",
      "Requirement already satisfied: lit in /home/cslab03/anaconda3/envs/coEnv/lib/python3.9/site-packages (from triton==2.0.0->torch>=1.10.0->pytorch-lightning<2.0.0,>1.7.0->lightning-bolts) (16.0.6)\n",
      "Requirement already satisfied: aiohttp!=4.0.0a0,!=4.0.0a1 in /home/cslab03/anaconda3/envs/coEnv/lib/python3.9/site-packages (from fsspec[http]>2021.06.0->pytorch-lightning<2.0.0,>1.7.0->lightning-bolts) (3.8.4)\n",
      "Requirement already satisfied: cachetools<6.0,>=2.0.0 in /home/cslab03/anaconda3/envs/coEnv/lib/python3.9/site-packages (from google-auth<3,>=1.6.3->tensorboard>=2.9.1->lightning-bolts) (5.3.1)\n",
      "Requirement already satisfied: pyasn1-modules>=0.2.1 in /home/cslab03/anaconda3/envs/coEnv/lib/python3.9/site-packages (from google-auth<3,>=1.6.3->tensorboard>=2.9.1->lightning-bolts) (0.3.0)\n",
      "Requirement already satisfied: rsa<5,>=3.1.4 in /home/cslab03/anaconda3/envs/coEnv/lib/python3.9/site-packages (from google-auth<3,>=1.6.3->tensorboard>=2.9.1->lightning-bolts) (4.9)\n",
      "Requirement already satisfied: six>=1.9.0 in /home/cslab03/anaconda3/envs/coEnv/lib/python3.9/site-packages (from google-auth<3,>=1.6.3->tensorboard>=2.9.1->lightning-bolts) (1.16.0)\n",
      "Requirement already satisfied: urllib3<2.0 in /home/cslab03/anaconda3/envs/coEnv/lib/python3.9/site-packages (from google-auth<3,>=1.6.3->tensorboard>=2.9.1->lightning-bolts) (1.26.16)\n",
      "Requirement already satisfied: requests-oauthlib>=0.7.0 in /home/cslab03/anaconda3/envs/coEnv/lib/python3.9/site-packages (from google-auth-oauthlib<1.1,>=0.5->tensorboard>=2.9.1->lightning-bolts) (1.3.1)\n",
      "Requirement already satisfied: importlib-metadata>=4.4 in /home/cslab03/anaconda3/envs/coEnv/lib/python3.9/site-packages (from markdown>=2.6.8->tensorboard>=2.9.1->lightning-bolts) (6.7.0)\n",
      "Requirement already satisfied: charset-normalizer<4,>=2 in /home/cslab03/anaconda3/envs/coEnv/lib/python3.9/site-packages (from requests<3,>=2.21.0->tensorboard>=2.9.1->lightning-bolts) (3.1.0)\n",
      "Requirement already satisfied: idna<4,>=2.5 in /home/cslab03/anaconda3/envs/coEnv/lib/python3.9/site-packages (from requests<3,>=2.21.0->tensorboard>=2.9.1->lightning-bolts) (3.4)\n",
      "Requirement already satisfied: certifi>=2017.4.17 in /home/cslab03/anaconda3/envs/coEnv/lib/python3.9/site-packages (from requests<3,>=2.21.0->tensorboard>=2.9.1->lightning-bolts) (2023.5.7)\n",
      "Requirement already satisfied: MarkupSafe>=2.1.1 in /home/cslab03/anaconda3/envs/coEnv/lib/python3.9/site-packages (from werkzeug>=1.0.1->tensorboard>=2.9.1->lightning-bolts) (2.1.3)\n",
      "Requirement already satisfied: attrs>=17.3.0 in /home/cslab03/anaconda3/envs/coEnv/lib/python3.9/site-packages (from aiohttp!=4.0.0a0,!=4.0.0a1->fsspec[http]>2021.06.0->pytorch-lightning<2.0.0,>1.7.0->lightning-bolts) (23.1.0)\n",
      "Requirement already satisfied: multidict<7.0,>=4.5 in /home/cslab03/anaconda3/envs/coEnv/lib/python3.9/site-packages (from aiohttp!=4.0.0a0,!=4.0.0a1->fsspec[http]>2021.06.0->pytorch-lightning<2.0.0,>1.7.0->lightning-bolts) (6.0.4)\n",
      "Requirement already satisfied: async-timeout<5.0,>=4.0.0a3 in /home/cslab03/anaconda3/envs/coEnv/lib/python3.9/site-packages (from aiohttp!=4.0.0a0,!=4.0.0a1->fsspec[http]>2021.06.0->pytorch-lightning<2.0.0,>1.7.0->lightning-bolts) (4.0.2)\n",
      "Requirement already satisfied: yarl<2.0,>=1.0 in /home/cslab03/anaconda3/envs/coEnv/lib/python3.9/site-packages (from aiohttp!=4.0.0a0,!=4.0.0a1->fsspec[http]>2021.06.0->pytorch-lightning<2.0.0,>1.7.0->lightning-bolts) (1.9.2)\n",
      "Requirement already satisfied: frozenlist>=1.1.1 in /home/cslab03/anaconda3/envs/coEnv/lib/python3.9/site-packages (from aiohttp!=4.0.0a0,!=4.0.0a1->fsspec[http]>2021.06.0->pytorch-lightning<2.0.0,>1.7.0->lightning-bolts) (1.3.3)\n",
      "Requirement already satisfied: aiosignal>=1.1.2 in /home/cslab03/anaconda3/envs/coEnv/lib/python3.9/site-packages (from aiohttp!=4.0.0a0,!=4.0.0a1->fsspec[http]>2021.06.0->pytorch-lightning<2.0.0,>1.7.0->lightning-bolts) (1.3.1)\n",
      "Requirement already satisfied: zipp>=0.5 in /home/cslab03/anaconda3/envs/coEnv/lib/python3.9/site-packages (from importlib-metadata>=4.4->markdown>=2.6.8->tensorboard>=2.9.1->lightning-bolts) (3.15.0)\n",
      "Requirement already satisfied: pyasn1<0.6.0,>=0.4.6 in /home/cslab03/anaconda3/envs/coEnv/lib/python3.9/site-packages (from pyasn1-modules>=0.2.1->google-auth<3,>=1.6.3->tensorboard>=2.9.1->lightning-bolts) (0.5.0)\n",
      "Requirement already satisfied: oauthlib>=3.0.0 in /home/cslab03/anaconda3/envs/coEnv/lib/python3.9/site-packages (from requests-oauthlib>=0.7.0->google-auth-oauthlib<1.1,>=0.5->tensorboard>=2.9.1->lightning-bolts) (3.2.2)\n",
      "Requirement already satisfied: mpmath>=0.19 in /home/cslab03/anaconda3/envs/coEnv/lib/python3.9/site-packages (from sympy->torch>=1.10.0->pytorch-lightning<2.0.0,>1.7.0->lightning-bolts) (1.3.0)\n",
      "Installing collected packages: pytorch-lightning\n",
      "  Attempting uninstall: pytorch-lightning\n",
      "    Found existing installation: pytorch-lightning 1.5.10\n",
      "    Uninstalling pytorch-lightning-1.5.10:\n",
      "      Successfully uninstalled pytorch-lightning-1.5.10\n",
      "Successfully installed pytorch-lightning-1.9.5\n",
      "Requirement already satisfied: torchmetrics in /home/cslab03/anaconda3/envs/coEnv/lib/python3.9/site-packages (0.11.4)\n",
      "Requirement already satisfied: numpy>=1.17.2 in /home/cslab03/anaconda3/envs/coEnv/lib/python3.9/site-packages (from torchmetrics) (1.22.4)\n",
      "Requirement already satisfied: torch>=1.8.1 in /home/cslab03/anaconda3/envs/coEnv/lib/python3.9/site-packages (from torchmetrics) (2.0.1)\n",
      "Requirement already satisfied: packaging in /home/cslab03/anaconda3/envs/coEnv/lib/python3.9/site-packages (from torchmetrics) (23.1)\n",
      "Requirement already satisfied: filelock in /home/cslab03/anaconda3/envs/coEnv/lib/python3.9/site-packages (from torch>=1.8.1->torchmetrics) (3.12.2)\n",
      "Requirement already satisfied: typing-extensions in /home/cslab03/anaconda3/envs/coEnv/lib/python3.9/site-packages (from torch>=1.8.1->torchmetrics) (4.5.0)\n",
      "Requirement already satisfied: sympy in /home/cslab03/anaconda3/envs/coEnv/lib/python3.9/site-packages (from torch>=1.8.1->torchmetrics) (1.12)\n",
      "Requirement already satisfied: networkx in /home/cslab03/anaconda3/envs/coEnv/lib/python3.9/site-packages (from torch>=1.8.1->torchmetrics) (3.1)\n",
      "Requirement already satisfied: jinja2 in /home/cslab03/anaconda3/envs/coEnv/lib/python3.9/site-packages (from torch>=1.8.1->torchmetrics) (3.1.2)\n",
      "Requirement already satisfied: nvidia-cuda-nvrtc-cu11==11.7.99 in /home/cslab03/anaconda3/envs/coEnv/lib/python3.9/site-packages (from torch>=1.8.1->torchmetrics) (11.7.99)\n",
      "Requirement already satisfied: nvidia-cuda-runtime-cu11==11.7.99 in /home/cslab03/anaconda3/envs/coEnv/lib/python3.9/site-packages (from torch>=1.8.1->torchmetrics) (11.7.99)\n",
      "Requirement already satisfied: nvidia-cuda-cupti-cu11==11.7.101 in /home/cslab03/anaconda3/envs/coEnv/lib/python3.9/site-packages (from torch>=1.8.1->torchmetrics) (11.7.101)\n",
      "Requirement already satisfied: nvidia-cudnn-cu11==8.5.0.96 in /home/cslab03/anaconda3/envs/coEnv/lib/python3.9/site-packages (from torch>=1.8.1->torchmetrics) (8.5.0.96)\n",
      "Requirement already satisfied: nvidia-cublas-cu11==11.10.3.66 in /home/cslab03/anaconda3/envs/coEnv/lib/python3.9/site-packages (from torch>=1.8.1->torchmetrics) (11.10.3.66)\n",
      "Requirement already satisfied: nvidia-cufft-cu11==10.9.0.58 in /home/cslab03/anaconda3/envs/coEnv/lib/python3.9/site-packages (from torch>=1.8.1->torchmetrics) (10.9.0.58)\n",
      "Requirement already satisfied: nvidia-curand-cu11==10.2.10.91 in /home/cslab03/anaconda3/envs/coEnv/lib/python3.9/site-packages (from torch>=1.8.1->torchmetrics) (10.2.10.91)\n",
      "Requirement already satisfied: nvidia-cusolver-cu11==11.4.0.1 in /home/cslab03/anaconda3/envs/coEnv/lib/python3.9/site-packages (from torch>=1.8.1->torchmetrics) (11.4.0.1)\n",
      "Requirement already satisfied: nvidia-cusparse-cu11==11.7.4.91 in /home/cslab03/anaconda3/envs/coEnv/lib/python3.9/site-packages (from torch>=1.8.1->torchmetrics) (11.7.4.91)\n",
      "Requirement already satisfied: nvidia-nccl-cu11==2.14.3 in /home/cslab03/anaconda3/envs/coEnv/lib/python3.9/site-packages (from torch>=1.8.1->torchmetrics) (2.14.3)\n",
      "Requirement already satisfied: nvidia-nvtx-cu11==11.7.91 in /home/cslab03/anaconda3/envs/coEnv/lib/python3.9/site-packages (from torch>=1.8.1->torchmetrics) (11.7.91)\n",
      "Requirement already satisfied: triton==2.0.0 in /home/cslab03/anaconda3/envs/coEnv/lib/python3.9/site-packages (from torch>=1.8.1->torchmetrics) (2.0.0)\n",
      "Requirement already satisfied: setuptools in /home/cslab03/anaconda3/envs/coEnv/lib/python3.9/site-packages (from nvidia-cublas-cu11==11.10.3.66->torch>=1.8.1->torchmetrics) (59.5.0)\n",
      "Requirement already satisfied: wheel in /home/cslab03/anaconda3/envs/coEnv/lib/python3.9/site-packages (from nvidia-cublas-cu11==11.10.3.66->torch>=1.8.1->torchmetrics) (0.40.0)\n",
      "Requirement already satisfied: cmake in /home/cslab03/anaconda3/envs/coEnv/lib/python3.9/site-packages (from triton==2.0.0->torch>=1.8.1->torchmetrics) (3.26.4)\n",
      "Requirement already satisfied: lit in /home/cslab03/anaconda3/envs/coEnv/lib/python3.9/site-packages (from triton==2.0.0->torch>=1.8.1->torchmetrics) (16.0.6)\n",
      "Requirement already satisfied: MarkupSafe>=2.0 in /home/cslab03/anaconda3/envs/coEnv/lib/python3.9/site-packages (from jinja2->torch>=1.8.1->torchmetrics) (2.1.3)\n",
      "Requirement already satisfied: mpmath>=0.19 in /home/cslab03/anaconda3/envs/coEnv/lib/python3.9/site-packages (from sympy->torch>=1.8.1->torchmetrics) (1.3.0)\n"
     ]
    }
   ],
   "source": [
    "!pip install transformers\n",
    "!pip install ipywidgets\n",
    "!pip install pytorch-lightning==1.5.10\n",
    "!pip install nvidia-ml-py3\n",
    "!pip install neptune-client\n",
    "!pip install lightning-bolts\n",
    "!pip install torchmetrics"
   ]
  },
  {
   "cell_type": "code",
   "execution_count": 2,
   "metadata": {},
   "outputs": [
    {
     "name": "stderr",
     "output_type": "stream",
     "text": [
      "/home/cslab03/anaconda3/envs/coEnv/lib/python3.9/site-packages/neptune/internal/backends/hosted_client.py:50: NeptuneDeprecationWarning: The 'neptune-client' package has been deprecated and will be removed in the future. Install the 'neptune' package instead. For more, see https://docs.neptune.ai/setup/upgrading/\n",
      "  from neptune.version import version as neptune_client_version\n",
      "/home/cslab03/anaconda3/envs/coEnv/lib/python3.9/site-packages/pl_bolts/models/self_supervised/amdim/amdim_module.py:34: UnderReviewWarning: The feature generate_power_seq is currently marked under review. The compatibility with other Lightning projects is not guaranteed and API may change at any time. The API and functionality may change without warning in future releases. More details: https://lightning-bolts.readthedocs.io/en/latest/stability.html\n",
      "  \"lr_options\": generate_power_seq(LEARNING_RATE_CIFAR, 11),\n",
      "/home/cslab03/anaconda3/envs/coEnv/lib/python3.9/site-packages/pl_bolts/models/self_supervised/amdim/amdim_module.py:92: UnderReviewWarning: The feature FeatureMapContrastiveTask is currently marked under review. The compatibility with other Lightning projects is not guaranteed and API may change at any time. The API and functionality may change without warning in future releases. More details: https://lightning-bolts.readthedocs.io/en/latest/stability.html\n",
      "  contrastive_task: Union[FeatureMapContrastiveTask] = FeatureMapContrastiveTask(\"01, 02, 11\"),\n",
      "/home/cslab03/anaconda3/envs/coEnv/lib/python3.9/site-packages/pl_bolts/losses/self_supervised_learning.py:228: UnderReviewWarning: The feature AmdimNCELoss is currently marked under review. The compatibility with other Lightning projects is not guaranteed and API may change at any time. The API and functionality may change without warning in future releases. More details: https://lightning-bolts.readthedocs.io/en/latest/stability.html\n",
      "  self.nce_loss = AmdimNCELoss(tclip)\n"
     ]
    }
   ],
   "source": [
    "from transformers import Wav2Vec2Processor, Wav2Vec2Model, Wav2Vec2Config\n",
    "import torch\n",
    "from transformers.models.wav2vec2.modeling_wav2vec2 import Wav2Vec2FeatureEncoder, Wav2Vec2NoLayerNormConvLayer, Wav2Vec2LayerNormConvLayer\n",
    "from torch import nn\n",
    "from transformers.activations import ACT2FN\n",
    "import ipywidgets\n",
    "import os\n",
    "import pandas as pd\n",
    "from sklearn.model_selection import train_test_split\n",
    "import csv\n",
    "import torchaudio\n",
    "import torchtext\n",
    "import pytorch_lightning as pl\n",
    "import nvidia_smi\n",
    "from pytorch_lightning.loggers.neptune import NeptuneLogger\n",
    "from pytorch_lightning.loggers import NeptuneLogger\n",
    "from IPython.display import display, HTML\n",
    "from dataclasses import dataclass, field\n",
    "from torch.utils.data import DataLoader\n",
    "from typing import Any, Dict, List, Optional, Union\n",
    "from pl_bolts.optimizers.lr_scheduler import LinearWarmupCosineAnnealingLR\n",
    "from torchmetrics import Accuracy\n",
    "from torchmetrics import F1Score\n",
    "from sklearn.metrics import confusion_matrix\n",
    "import torch.nn.functional as F\n",
    "import numpy as np\n",
    "import contextlib\n"
   ]
  },
  {
   "cell_type": "markdown",
   "metadata": {},
   "source": [
    "Verify if the GPU is working"
   ]
  },
  {
   "cell_type": "code",
   "execution_count": 3,
   "metadata": {},
   "outputs": [
    {
     "name": "stdout",
     "output_type": "stream",
     "text": [
      "Thu Nov  2 11:40:43 2023       \n",
      "+-----------------------------------------------------------------------------+\n",
      "| NVIDIA-SMI 525.125.06   Driver Version: 525.125.06   CUDA Version: 12.0     |\n",
      "|-------------------------------+----------------------+----------------------+\n",
      "| GPU  Name        Persistence-M| Bus-Id        Disp.A | Volatile Uncorr. ECC |\n",
      "| Fan  Temp  Perf  Pwr:Usage/Cap|         Memory-Usage | GPU-Util  Compute M. |\n",
      "|                               |                      |               MIG M. |\n",
      "|===============================+======================+======================|\n",
      "|   0  NVIDIA RTX A4000    Off  | 00000000:B3:00.0  On |                  Off |\n",
      "| 41%   49C    P8    23W / 140W |    700MiB / 16376MiB |     40%      Default |\n",
      "|                               |                      |                  N/A |\n",
      "+-------------------------------+----------------------+----------------------+\n",
      "                                                                               \n",
      "+-----------------------------------------------------------------------------+\n",
      "| Processes:                                                                  |\n",
      "|  GPU   GI   CI        PID   Type   Process name                  GPU Memory |\n",
      "|        ID   ID                                                   Usage      |\n",
      "|=============================================================================|\n",
      "|    0   N/A  N/A      1925      G   /usr/lib/xorg/Xorg                 39MiB |\n",
      "|    0   N/A  N/A      3762      G   /usr/lib/xorg/Xorg                189MiB |\n",
      "|    0   N/A  N/A      3912      G   /usr/bin/gnome-shell              112MiB |\n",
      "|    0   N/A  N/A      5609      G   ...RendererForSitePerProcess      144MiB |\n",
      "|    0   N/A  N/A      7392      G   /usr/lib/firefox/firefox          200MiB |\n",
      "+-----------------------------------------------------------------------------+\n"
     ]
    }
   ],
   "source": [
    "!nvidia-smi"
   ]
  },
  {
   "cell_type": "code",
   "execution_count": 4,
   "metadata": {},
   "outputs": [
    {
     "name": "stdout",
     "output_type": "stream",
     "text": [
      "Pytorch Lightning Version: 1.9.5\n",
      "Device name: b'NVIDIA RTX A4000'\n"
     ]
    }
   ],
   "source": [
    "print(f\"Pytorch Lightning Version: {pl.__version__}\")\n",
    "nvidia_smi.nvmlInit()\n",
    "handle = nvidia_smi.nvmlDeviceGetHandleByIndex(0)\n",
    "print(f\"Device name: {nvidia_smi.nvmlDeviceGetName(handle)}\")"
   ]
  },
  {
   "cell_type": "markdown",
   "metadata": {},
   "source": [
    "Define hyperparameters"
   ]
  },
  {
   "cell_type": "code",
   "execution_count": 5,
   "metadata": {},
   "outputs": [
    {
     "data": {
      "text/plain": [
       "{'version': 'wav2vec2-sound_sismic_train',\n",
       " 'lr': 1e-05,\n",
       " 'w_decay': 0,\n",
       " 'bs': 16,\n",
       " 'patience': 30,\n",
       " 'hold_epochs': 20,\n",
       " 'accum_grads': 4,\n",
       " 'pretrained': 'facebook/wav2vec2-base-960h',\n",
       " 'wav2vec2_processor': 'facebook/wav2vec2-base-960h',\n",
       " 'freeze_finetune_updates': 0,\n",
       " 'warmup_epochs': 40,\n",
       " 'apply_mask': False,\n",
       " 'mask_time_length': 10,\n",
       " 'max_epochs': 300}"
      ]
     },
     "execution_count": 5,
     "metadata": {},
     "output_type": "execute_result"
    }
   ],
   "source": [
    "version = \"wav2vec2-sound_sismic_train\" #@param {type: \"string\"}\n",
    "lr = 1e-5#@param {type: \"number\"}\n",
    "w_decay = 0#@param {type: \"number\"}\n",
    "bs = 16#@param {type: \"integer\"}\n",
    "accum_grads = 4#@param {type: \"integer\"}\n",
    "patience = 30#@param {type: \"integer\"}\n",
    "max_epochs = 300#@param {type: \"integer\"}\n",
    "# warmup_steps = 1000#@param {type: \"integer\"}\n",
    "hold_epochs = 20#@param {type: \"integer\"}\n",
    "pretrained = \"facebook/wav2vec2-base-960h\"#@param {type: \"string\"}\n",
    "wav2vec2_processor = \"facebook/wav2vec2-base-960h\"#@param {type: \"string\"}\n",
    "freeze_finetune_updates = 0#@param {type: \"integer\"}\n",
    "warmup_epochs = 40#@param {type: \"integer\"}\n",
    "apply_mask=False#@param {type: \"boolean\"}\n",
    "mask_time_length= 10#@param {type: \"integer\"}, era 1\n",
    "\n",
    "# Define hyperparameters\n",
    "hparams = {\"version\": version,\n",
    "          \"lr\": lr,\n",
    "          \"w_decay\": w_decay,\n",
    "          \"bs\": bs,\n",
    "          \"patience\": patience,\n",
    "          \"hold_epochs\":hold_epochs,\n",
    "          \"accum_grads\": accum_grads,\n",
    "          \"pretrained\":pretrained,\n",
    "          \"wav2vec2_processor\": wav2vec2_processor,\n",
    "          \"freeze_finetune_updates\":freeze_finetune_updates,\n",
    "          \"warmup_epochs\":warmup_epochs,\n",
    "          \"apply_mask\":apply_mask,\n",
    "          \"mask_time_length\":mask_time_length,\n",
    "          \"max_epochs\": max_epochs}\n",
    "hparams"
   ]
  },
  {
   "cell_type": "markdown",
   "metadata": {},
   "source": [
    "Use the original processor from Wav2Vec2"
   ]
  },
  {
   "cell_type": "code",
   "execution_count": 6,
   "metadata": {},
   "outputs": [],
   "source": [
    "processor = Wav2Vec2Processor.from_pretrained(hparams[\"wav2vec2_processor\"], return_attention_mask=True)"
   ]
  },
  {
   "cell_type": "code",
   "execution_count": 7,
   "metadata": {},
   "outputs": [
    {
     "name": "stdout",
     "output_type": "stream",
     "text": [
      "Wav2Vec2Processor:\n",
      "- feature_extractor: Wav2Vec2FeatureExtractor {\n",
      "  \"do_normalize\": true,\n",
      "  \"feature_extractor_type\": \"Wav2Vec2FeatureExtractor\",\n",
      "  \"feature_size\": 1,\n",
      "  \"padding_side\": \"right\",\n",
      "  \"padding_value\": 0.0,\n",
      "  \"return_attention_mask\": true,\n",
      "  \"sampling_rate\": 16000\n",
      "}\n",
      "\n",
      "- tokenizer: PreTrainedTokenizer(name_or_path='facebook/wav2vec2-base-960h', vocab_size=32, model_max_len=9223372036854775807, is_fast=False, padding_side='right', truncation_side='right', special_tokens={'bos_token': '<s>', 'eos_token': '</s>', 'unk_token': '<unk>', 'pad_token': '<pad>'})\n"
     ]
    }
   ],
   "source": [
    "print(processor)"
   ]
  },
  {
   "cell_type": "markdown",
   "metadata": {},
   "source": [
    "Generalize the model to accept n channels instead of just 1"
   ]
  },
  {
   "cell_type": "code",
   "execution_count": 8,
   "metadata": {},
   "outputs": [],
   "source": [
    "class Wav2Vec2GroupNormConvLayer(nn.Module):\n",
    "    def __init__(self, config, num_input_channels=1, layer_id=0):\n",
    "        super().__init__()\n",
    "        self.num_input_channels = num_input_channels\n",
    "        self.in_conv_dim = config.conv_dim[layer_id - 1] if layer_id > 0 else self.num_input_channels\n",
    "        self.out_conv_dim = config.conv_dim[layer_id]\n",
    "\n",
    "        self.conv = nn.Conv1d(\n",
    "            self.in_conv_dim,\n",
    "            self.out_conv_dim,\n",
    "            kernel_size=config.conv_kernel[layer_id],\n",
    "            stride=config.conv_stride[layer_id],\n",
    "            bias=config.conv_bias,\n",
    "        )\n",
    "        self.activation = ACT2FN[config.feat_extract_activation]\n",
    "\n",
    "        self.layer_norm = nn.GroupNorm(num_groups=self.out_conv_dim, num_channels=self.out_conv_dim, affine=True)\n",
    "\n",
    "    def forward(self, hidden_states):\n",
    "        hidden_states = self.conv(hidden_states)\n",
    "        hidden_states = self.layer_norm(hidden_states)\n",
    "        hidden_states = self.activation(hidden_states)\n",
    "        return hidden_states\n",
    "\n",
    "class Wav2Vec2_ChannelFeatureEncoder(nn.Module):\n",
    "    \"\"\"Construct the features from raw audio waveform\"\"\"\n",
    "\n",
    "    def __init__(self, config, num_input_channels=1):\n",
    "        super().__init__()\n",
    "        \n",
    "        self.num_input_channels = num_input_channels\n",
    "        \n",
    "        if config.feat_extract_norm == \"group\":\n",
    "            conv_layers = [Wav2Vec2GroupNormConvLayer(config, num_input_channels= self.num_input_channels,layer_id=0)] + [\n",
    "                Wav2Vec2NoLayerNormConvLayer(config, layer_id=i + 1) for i in range(config.num_feat_extract_layers - 1)\n",
    "            ]\n",
    "        elif config.feat_extract_norm == \"layer\":\n",
    "            conv_layers = [\n",
    "                Wav2Vec2LayerNormConvLayer(config, layer_id=i) for i in range(config.num_feat_extract_layers)\n",
    "            ]\n",
    "        else:\n",
    "            raise ValueError(\n",
    "                f\"`config.feat_extract_norm` is {config.feat_extract_norm}, but has to be one of ['group', 'layer']\"\n",
    "            )\n",
    "        self.conv_layers = nn.ModuleList(conv_layers)\n",
    "        self.gradient_checkpointing = False\n",
    "        self._requires_grad = True\n",
    "\n",
    "    def _freeze_parameters(self):\n",
    "        for param in self.parameters():\n",
    "            param.requires_grad = False\n",
    "        self._requires_grad = False\n",
    "\n",
    "    def forward(self, input_values):\n",
    "        hidden_states = input_values[:] # mudou para que receba todos os canais (4)\n",
    "        #print(\"hidden_states\", hidden_states.shape)\n",
    "\n",
    "        # make sure hidden_states require grad for gradient_checkpointing\n",
    "        if self._requires_grad and self.training:\n",
    "            hidden_states.requires_grad = True\n",
    "\n",
    "        for conv_layer in self.conv_layers:\n",
    "            if self._requires_grad and self.gradient_checkpointing and self.training:\n",
    "\n",
    "                def create_custom_forward(module):\n",
    "                    def custom_forward(*inputs):\n",
    "                        return module(*inputs)\n",
    "\n",
    "                    return custom_forward\n",
    "\n",
    "                hidden_states = torch.utils.checkpoint.checkpoint(\n",
    "                    create_custom_forward(conv_layer),\n",
    "                    hidden_states,\n",
    "                )\n",
    "            else:\n",
    "                hidden_states = conv_layer(hidden_states)\n",
    "\n",
    "        return hidden_states\n",
    "\n",
    "# Crio o novo modelo que herda os processos de Wav2Vec2, mas usa o extrator de features baseado em 4 canais\n",
    "class Wav2Vec2_ChannelModel(Wav2Vec2Model):\n",
    "    def __init__(self, config: Wav2Vec2Config, num_input_channels=1):\n",
    "        super().__init__(config)\n",
    "\n",
    "        #del self.feature_extractor\n",
    "        self.feature_extractor = Wav2Vec2_ChannelFeatureEncoder(config, num_input_channels=num_input_channels)"
   ]
  },
  {
   "cell_type": "code",
   "execution_count": 9,
   "metadata": {},
   "outputs": [
    {
     "name": "stderr",
     "output_type": "stream",
     "text": [
      "Some weights of the model checkpoint at facebook/wav2vec2-base-960h were not used when initializing Wav2Vec2_ChannelModel: ['lm_head.bias', 'lm_head.weight', 'wav2vec2.feature_extractor.conv_layers.6.conv.weight']\n",
      "- This IS expected if you are initializing Wav2Vec2_ChannelModel from the checkpoint of a model trained on another task or with another architecture (e.g. initializing a BertForSequenceClassification model from a BertForPreTraining model).\n",
      "- This IS NOT expected if you are initializing Wav2Vec2_ChannelModel from the checkpoint of a model that you expect to be exactly identical (initializing a BertForSequenceClassification model from a BertForSequenceClassification model).\n",
      "Some weights of Wav2Vec2_ChannelModel were not initialized from the model checkpoint at facebook/wav2vec2-base-960h and are newly initialized: ['wav2vec2.masked_spec_embed']\n",
      "You should probably TRAIN this model on a down-stream task to be able to use it for predictions and inference.\n"
     ]
    }
   ],
   "source": [
    "model = Wav2Vec2_ChannelModel.from_pretrained(\"facebook/wav2vec2-base-960h\",\n",
    "                                                 conv_dim = (512, 512, 512,512,512,512),\n",
    "                                                 conv_stride = (5, 2, 2,2,2,2),\n",
    "                                                 conv_kernel = (10, 3, 3,3,3,2),\n",
    "                                                 num_feat_extract_layers = 6,\n",
    "                                                 num_input_channels = 1,\n",
    "                                                 ignore_mismatched_sizes=True)"
   ]
  },
  {
   "cell_type": "code",
   "execution_count": 10,
   "metadata": {},
   "outputs": [
    {
     "name": "stdout",
     "output_type": "stream",
     "text": [
      "Wav2Vec2_ChannelModel(\n",
      "  (feature_extractor): Wav2Vec2_ChannelFeatureEncoder(\n",
      "    (conv_layers): ModuleList(\n",
      "      (0): Wav2Vec2GroupNormConvLayer(\n",
      "        (conv): Conv1d(1, 512, kernel_size=(10,), stride=(5,), bias=False)\n",
      "        (activation): GELUActivation()\n",
      "        (layer_norm): GroupNorm(512, 512, eps=1e-05, affine=True)\n",
      "      )\n",
      "      (1-4): 4 x Wav2Vec2NoLayerNormConvLayer(\n",
      "        (conv): Conv1d(512, 512, kernel_size=(3,), stride=(2,), bias=False)\n",
      "        (activation): GELUActivation()\n",
      "      )\n",
      "      (5): Wav2Vec2NoLayerNormConvLayer(\n",
      "        (conv): Conv1d(512, 512, kernel_size=(2,), stride=(2,), bias=False)\n",
      "        (activation): GELUActivation()\n",
      "      )\n",
      "    )\n",
      "  )\n",
      "  (feature_projection): Wav2Vec2FeatureProjection(\n",
      "    (layer_norm): LayerNorm((512,), eps=1e-05, elementwise_affine=True)\n",
      "    (projection): Linear(in_features=512, out_features=768, bias=True)\n",
      "    (dropout): Dropout(p=0.1, inplace=False)\n",
      "  )\n",
      "  (encoder): Wav2Vec2Encoder(\n",
      "    (pos_conv_embed): Wav2Vec2PositionalConvEmbedding(\n",
      "      (conv): Conv1d(768, 768, kernel_size=(128,), stride=(1,), padding=(64,), groups=16)\n",
      "      (padding): Wav2Vec2SamePadLayer()\n",
      "      (activation): GELUActivation()\n",
      "    )\n",
      "    (layer_norm): LayerNorm((768,), eps=1e-05, elementwise_affine=True)\n",
      "    (dropout): Dropout(p=0.1, inplace=False)\n",
      "    (layers): ModuleList(\n",
      "      (0-11): 12 x Wav2Vec2EncoderLayer(\n",
      "        (attention): Wav2Vec2Attention(\n",
      "          (k_proj): Linear(in_features=768, out_features=768, bias=True)\n",
      "          (v_proj): Linear(in_features=768, out_features=768, bias=True)\n",
      "          (q_proj): Linear(in_features=768, out_features=768, bias=True)\n",
      "          (out_proj): Linear(in_features=768, out_features=768, bias=True)\n",
      "        )\n",
      "        (dropout): Dropout(p=0.1, inplace=False)\n",
      "        (layer_norm): LayerNorm((768,), eps=1e-05, elementwise_affine=True)\n",
      "        (feed_forward): Wav2Vec2FeedForward(\n",
      "          (intermediate_dropout): Dropout(p=0.1, inplace=False)\n",
      "          (intermediate_dense): Linear(in_features=768, out_features=3072, bias=True)\n",
      "          (intermediate_act_fn): GELUActivation()\n",
      "          (output_dense): Linear(in_features=3072, out_features=768, bias=True)\n",
      "          (output_dropout): Dropout(p=0.1, inplace=False)\n",
      "        )\n",
      "        (final_layer_norm): LayerNorm((768,), eps=1e-05, elementwise_affine=True)\n",
      "      )\n",
      "    )\n",
      "  )\n",
      ")\n"
     ]
    }
   ],
   "source": [
    "print(model)"
   ]
  },
  {
   "cell_type": "markdown",
   "metadata": {},
   "source": [
    "DO THE TRAIN-TEST SPLIT"
   ]
  },
  {
   "cell_type": "code",
   "execution_count": 11,
   "metadata": {},
   "outputs": [],
   "source": [
    "#from sklearn.model_selection import train_test_split\n",
    "#import os\n",
    "#import shutil\n",
    "#import librosa\n",
    "\n",
    "# #Define la ruta de la carpeta que contiene los archivos de audio\n",
    "#input_folder = '/media/cslab03/TOSHIBA EXT/TESIS/DataSet/AudioSismig1/'\n",
    "\n",
    "# #Lista todos los archivos de la carpeta\n",
    "#files = [os.path.join(input_folder, file) for file in os.listdir(input_folder)]\n",
    "\n",
    "# #Define las proporciones para train, test y validation sets\n",
    "#train_ratio = 0.7\n",
    "#test_ratio = 0.15\n",
    "#validation_ratio = 0.15\n",
    "\n",
    "# ##Divide los datos en train, test y validation sets\n",
    "#train_files, temp_files = train_test_split(files, test_size=1 - train_ratio)\n",
    "#test_files, validation_files = train_test_split(temp_files, test_size=validation_ratio / (test_ratio + validation_ratio))\n",
    "\n",
    " #Define las carpetas de salida\n",
    "#output_folder = './data1/'\n",
    "#os.makedirs(os.path.join(output_folder, 'train'), exist_ok=True)\n",
    "#os.makedirs(os.path.join(output_folder, 'test'), exist_ok=True)\n",
    "#os.makedirs(os.path.join(output_folder, 'validation'), exist_ok=True)\n",
    "\n",
    "\n",
    " #Copia los archivos a las carpetas correspondientes\n",
    "#for file in train_files:\n",
    "#    if 'BHZ' in file:    \n",
    "#        try:\n",
    "#            audio, _ = librosa.load(file, sr=None)\n",
    "#            shutil.copy(file, os.path.join(output_folder, 'train'))\n",
    "#        except Exception as e:\n",
    "#            print(e)\n",
    "#            print(file)\n",
    "#    else:\n",
    "#        continue\n",
    "    \n",
    "#for file in test_files:\n",
    "#    if 'BHZ' in file:\n",
    "#        try:\n",
    "#            audio, _ = librosa.load(file, sr=None)\n",
    "#            shutil.copy(file, os.path.join(output_folder, 'test'))\n",
    "#        except Exception as e:\n",
    "#            print(e)\n",
    "#            print(file)\n",
    "#    else:\n",
    "#        continue\n",
    "    \n",
    "#for file in validation_files:\n",
    "#    if 'BHZ' in file:\n",
    "#        try:\n",
    "#            audio, _ = librosa.load(file, sr=None)\n",
    "#            shutil.copy(file, os.path.join(output_folder, 'validation'))\n",
    "#        except Exception as e:\n",
    "#            print(e)\n",
    "#            print(file)\n",
    "#    else:\n",
    "#        continue\n",
    "\n",
    "#print(\"Data split completed.\")\n"
   ]
  },
  {
   "cell_type": "code",
   "execution_count": 12,
   "metadata": {},
   "outputs": [],
   "source": [
    "class ANSYN_Dataset_SE(torch.utils.data.Dataset):\n",
    "\n",
    "    def __init__(self, filenames, audio_path):\n",
    "        self.filenames = [filename for filename in filenames if not any(substring in filename for substring in ['TRBA', 'EXPL', 'VLP', 'TRESP','HB'])]\n",
    "        self.audio_path = audio_path\n",
    "    \n",
    "    def process_audio(self, signal, new_sr):\n",
    "        # right pad if necessary\n",
    "        length_signal = signal.shape[1]\n",
    "        if length_signal < 17787:\n",
    "            num_missing_samples = 17787 - length_signal\n",
    "            last_dim_padding = (0, num_missing_samples)\n",
    "            signal = torch.nn.functional.pad(signal, last_dim_padding)\n",
    "        elif length_signal > 17787:\n",
    "            signal = signal[:, :17787]\n",
    "            \n",
    "        return signal\n",
    "    \n",
    "\n",
    "    def normalize_layer(self, feats):\n",
    "        with torch.no_grad():\n",
    "            feats = torch.nn.functional.layer_norm(feats, feats.shape)\n",
    "        return feats\n",
    "\n",
    "    def __len__(self):\n",
    "        return len(self.filenames)\n",
    "\n",
    "    def __getitem__(self, index):\n",
    "        # Intenta cargar el archivo de audio\n",
    "        feats, _ = torchaudio.load(self.audio_path + self.filenames[index])\n",
    "\n",
    "\n",
    "        # Asigna una etiqueta de destino basada en el nombre del archivo\n",
    "        if 'LP' in self.filenames[index]:\n",
    "            target = torch.tensor(int('00')).long() \n",
    "        elif 'VT' in self.filenames[index]:\n",
    "            target = torch.tensor(int('01')).long()\n",
    "                    \n",
    "        feats = self.process_audio(feats, 16000)\n",
    "        feats = self.normalize_layer(feats)\n",
    "        \n",
    "        return {\"input_values\": feats, \"target\": target}\n",
    "        "
   ]
  },
  {
   "cell_type": "code",
   "execution_count": 13,
   "metadata": {},
   "outputs": [],
   "source": [
    "X_train = os.listdir('/home/cslab03/Desktop/QuakeWavNet/data1/train/')\n",
    "X_test = os.listdir('/home/cslab03/Desktop/QuakeWavNet/data1/test/')\n",
    "X_val = os.listdir('/home/cslab03/Desktop/QuakeWavNet/data1/validation/')"
   ]
  },
  {
   "cell_type": "code",
   "execution_count": 14,
   "metadata": {},
   "outputs": [
    {
     "name": "stdout",
     "output_type": "stream",
     "text": [
      "a0fc78c1240fd3534f433cce8d3a5fdd_BHZ_BNAS_LP.wav\n"
     ]
    }
   ],
   "source": [
    "print(X_train[0])"
   ]
  },
  {
   "cell_type": "code",
   "execution_count": 15,
   "metadata": {},
   "outputs": [],
   "source": [
    "train_dataset = ANSYN_Dataset_SE(X_train, '/home/cslab03/Desktop/QuakeWavNet/data1/train/')\n",
    "val_dataset =  ANSYN_Dataset_SE(X_val, '/home/cslab03/Desktop/QuakeWavNet/data1/validation/')\n",
    "test_dataset = ANSYN_Dataset_SE(X_test, '/home/cslab03/Desktop/QuakeWavNet/data1/test/')"
   ]
  },
  {
   "cell_type": "code",
   "execution_count": 16,
   "metadata": {},
   "outputs": [
    {
     "data": {
      "text/plain": [
       "{'input_values': tensor([[-0.3224, -0.2470, -0.2385,  ...,  2.0274,  2.0274,  2.0274]]),\n",
       " 'target': tensor(0)}"
      ]
     },
     "execution_count": 16,
     "metadata": {},
     "output_type": "execute_result"
    }
   ],
   "source": [
    "train_dataset.__getitem__(0)"
   ]
  },
  {
   "cell_type": "code",
   "execution_count": 17,
   "metadata": {},
   "outputs": [
    {
     "name": "stdout",
     "output_type": "stream",
     "text": [
      "Número de amostras de treinamento: 14206\n",
      "Número de amostras de validação: 3103\n",
      "Número de amostras de teste: 3150\n"
     ]
    }
   ],
   "source": [
    "print('Número de amostras de treinamento:', len(train_dataset))\n",
    "print('Número de amostras de validação:', len(val_dataset))\n",
    "print('Número de amostras de teste:', len(test_dataset))"
   ]
  },
  {
   "cell_type": "code",
   "execution_count": 18,
   "metadata": {},
   "outputs": [
    {
     "name": "stdout",
     "output_type": "stream",
     "text": [
      "Label distribution:\n",
      "{'LP': 8369, 'VT': 5837}\n"
     ]
    }
   ],
   "source": [
    "label_distribution = {}\n",
    "for data in train_dataset:\n",
    "    label = data[\"target\"].item()\n",
    "    \n",
    "    if label == 0:\n",
    "        label = \"LP\"\n",
    "    elif label == 1:\n",
    "        label = \"VT\"\n",
    "\n",
    "        \n",
    "    if label in label_distribution:\n",
    "        label_distribution[label] += 1\n",
    "    else:\n",
    "        label_distribution[label] = 1\n",
    "\n",
    "    \n",
    "print(\"Label distribution:\")\n",
    "print(label_distribution)\n"
   ]
  },
  {
   "cell_type": "code",
   "execution_count": 19,
   "metadata": {},
   "outputs": [
    {
     "name": "stdout",
     "output_type": "stream",
     "text": [
      "Frequência de amostragem aceita pelo modelo: 16000\n"
     ]
    },
    {
     "name": "stderr",
     "output_type": "stream",
     "text": [
      "2023-11-02 11:40:56.336964: I tensorflow/core/util/port.cc:110] oneDNN custom operations are on. You may see slightly different numerical results due to floating-point round-off errors from different computation orders. To turn them off, set the environment variable `TF_ENABLE_ONEDNN_OPTS=0`.\n",
      "2023-11-02 11:40:56.387420: I tensorflow/core/platform/cpu_feature_guard.cc:182] This TensorFlow binary is optimized to use available CPU instructions in performance-critical operations.\n",
      "To enable the following instructions: AVX2 AVX512F AVX512_VNNI FMA, in other operations, rebuild TensorFlow with the appropriate compiler flags.\n",
      "2023-11-02 11:40:57.173642: W tensorflow/compiler/tf2tensorrt/utils/py_utils.cc:38] TF-TRT Warning: Could not find TensorRT\n"
     ]
    },
    {
     "name": "stdout",
     "output_type": "stream",
     "text": [
      "Input values dimensão: torch.Size([1, 1, 17787])\n",
      "{'input_values': tensor([[[-0.0519, -0.0224, -0.0146,  ...,  0.6665,  0.6665,  0.6665]]]), 'attention_mask': tensor([[1]], dtype=torch.int32)}\n"
     ]
    }
   ],
   "source": [
    "target_sampling_rate = processor.feature_extractor.sampling_rate\n",
    "print(f\"Frequência de amostragem aceita pelo modelo: {target_sampling_rate}\")\n",
    "# Conferindo se os dados de entrada não geram erro no processor\n",
    "inputs = processor(train_dataset[5][\"input_values\"], sampling_rate=target_sampling_rate, return_tensors=\"pt\")\n",
    "print(f'Input values dimensão: {inputs[\"input_values\"].shape}')\n",
    "print(inputs)"
   ]
  },
  {
   "cell_type": "code",
   "execution_count": 20,
   "metadata": {},
   "outputs": [
    {
     "name": "stdout",
     "output_type": "stream",
     "text": [
      "Dimensões de entrada do modelo:\n",
      "Dimensões de saída do modelo: \n",
      " torch.Size([1, 110, 768])\n"
     ]
    }
   ],
   "source": [
    "print('Dimensões de entrada do modelo:')\n",
    "with torch.no_grad():\n",
    "    outputs = model(**inputs)\n",
    "last_hidden_states = outputs.last_hidden_state\n",
    "\n",
    "print('Dimensões de saída do modelo: \\n',last_hidden_states.shape)"
   ]
  },
  {
   "cell_type": "code",
   "execution_count": 21,
   "metadata": {},
   "outputs": [],
   "source": [
    "@dataclass\n",
    "class DataCollatorWithPadding:\n",
    "    processor: Wav2Vec2Processor\n",
    "    padding: Union[bool, str] = True\n",
    "    max_length: Optional[int] = None\n",
    "    max_length_labels: Optional[int] = None\n",
    "    pad_to_multiple_of: Optional[int] = None\n",
    "    pad_to_multiple_of_labels: Optional[int] = None\n",
    "@dataclass\n",
    "class DataCollatorWithPadding:\n",
    "     \"\"\"\n",
    "     Data collator that will dynamically pad the inputs received.\n",
    "     Args:\n",
    "        processor (:class:`~transformers.Wav2Vec2Processor`)\n",
    "             The processor used for proccessing the data.\n",
    "         padding (:obj:`bool`, :obj:`str` or :class:`~transformers.tokenization_utils_base.PaddingStrategy`, `optional`, defaults to :obj:`True`):\n",
    "             Select a strategy to pad the returned sequences (according to the model's padding side and padding index)\n",
    "             among:\n",
    "             * :obj:`True` or :obj:`'longest'`: Pad to the longest sequence in the batch (or no padding if only a single\n",
    "               sequence if provided).\n",
    "             * :obj:`'max_length'`: Pad to a maximum length specified with the argument :obj:`max_length` or to the\n",
    "               maximum acceptable input length for the model if that argument is not provided.\n",
    "             * :obj:`False` or :obj:`'do_not_pad'` (default): No padding (i.e., can output a batch with sequences of\n",
    "               different lengths).\n",
    "         max_length (:obj:`int`, `optional`):\n",
    "             Maximum length of the ``input_values`` of the returned list and optionally padding length (see above).\n",
    "         max_length_labels (:obj:`int`, `optional`):\n",
    "             Maximum length of the ``labels`` returned list and optionally padding length (see above).\n",
    "         pad_to_multiple_of (:obj:`int`, `optional`):\n",
    "             If set will pad the sequence to a multiple of the provided value.\n",
    "             This is especially useful to enable the use of Tensor Cores on NVIDIA hardware with compute capability >=\n",
    "             7.5 (Volta).\n",
    "     \"\"\"\n",
    "     processor: Wav2Vec2Processor\n",
    "     padding: Union[bool, str] = True\n",
    "     max_length: Optional[int] = None\n",
    "     max_length_labels: Optional[int] = None\n",
    "     pad_to_multiple_of: Optional[int] = None\n",
    "     pad_to_multiple_of_labels: Optional[int] = None\n",
    "\n",
    "     def __call__(self, features: List[Dict[str, Union[List[int], torch.Tensor]]]) -> Dict[str, torch.Tensor]:\n",
    "                \n",
    "        input_features = [{\"input_values\": feature[\"input_values\"]} for feature in features]\n",
    "        label_features = [{\"input_ids\": feature[\"target\"]} for feature in features]\n",
    "        batch = self.processor.pad(\n",
    "             input_features,\n",
    "             padding=self.padding,\n",
    "             max_length=self.max_length,\n",
    "             pad_to_multiple_of=self.pad_to_multiple_of,\n",
    "             return_tensors=\"pt\",\n",
    "         )\n",
    "        #print('batch', batch)\n",
    "        with self.processor.as_target_processor(): labels_batch = self.processor.pad( label_features, padding=True,max_length=self.max_length_labels,pad_to_multiple_of=self.pad_to_multiple_of_labels,return_tensors=\"pt\",)\n",
    "        #print('labels_batch', labels_batch)\n",
    "\n",
    "        labels = labels_batch[\"input_ids\"]\n",
    "\n",
    "        batch[\"target\"] = labels\n",
    "\n",
    "        return batch"
   ]
  },
  {
   "cell_type": "code",
   "execution_count": 22,
   "metadata": {},
   "outputs": [],
   "source": [
    "data_collator = DataCollatorWithPadding(processor=processor,\n",
    "                                        #max_length=188,\n",
    "                                        padding=True)"
   ]
  },
  {
   "cell_type": "code",
   "execution_count": 23,
   "metadata": {},
   "outputs": [
    {
     "name": "stdout",
     "output_type": "stream",
     "text": [
      "Número de minibatches de treinamento: 888\n",
      "Número de minibatches de validação: 194\n"
     ]
    },
    {
     "name": "stdout",
     "output_type": "stream",
     "text": [
      "\n",
      "Dimensões dos dados de um minibatch - Audio: torch.Size([16, 1, 17787])\n",
      "\n",
      "Dimensões dos dados de um minibatch - Target: torch.Size([16])\n",
      "Valores mínimo e máximo entrada:  tensor(-11.2170) tensor(12.4305)\n",
      "Valores mínimo e máximo saída:  tensor(0) tensor(1)\n",
      "Tipo dos dados dos áudios:          <class 'torch.Tensor'>\n",
      "Tipo das classes das classes:        <class 'torch.Tensor'>\n"
     ]
    }
   ],
   "source": [
    "batch_size = hparams[\"bs\"]\n",
    "\n",
    "train_dataloader = DataLoader(train_dataset, batch_size=batch_size,\n",
    "                              collate_fn = data_collator,\n",
    "                              shuffle=True, num_workers=4)\n",
    "val_dataloader = DataLoader(val_dataset, batch_size=batch_size,\n",
    "                            collate_fn = data_collator,\n",
    "                            shuffle=False, num_workers=4)\n",
    "\n",
    "print('Número de minibatches de treinamento:', len(train_dataloader))\n",
    "print('Número de minibatches de validação:', len(val_dataloader))\n",
    "\n",
    "batch = next(iter(train_dataloader))\n",
    "#print(batch)\n",
    "\n",
    "x_train, y_train = batch['input_values'], batch['target']\n",
    "print(\"\\nDimensões dos dados de um minibatch - Audio:\", x_train.size())\n",
    "# print(\"\\nDimensões dos dados de um minibatch:\", padding_mask.size())\n",
    "print(\"\\nDimensões dos dados de um minibatch - Target:\", y_train.size())\n",
    "print(\"Valores mínimo e máximo entrada: \", torch.min(x_train), torch.max(x_train))\n",
    "print(\"Valores mínimo e máximo saída: \", torch.min(y_train), torch.max(y_train))\n",
    "print(\"Tipo dos dados dos áudios:         \", type(x_train))\n",
    "print(\"Tipo das classes das classes:       \", type(y_train))"
   ]
  },
  {
   "cell_type": "code",
   "execution_count": 24,
   "metadata": {},
   "outputs": [
    {
     "data": {
      "text/plain": [
       "{'input_values': tensor([[[ 0.5875,  0.4662,  0.3009,  ...,  0.0032,  0.0032,  0.0032]],\n",
       "\n",
       "        [[-0.7409, -0.8558, -0.7106,  ...,  0.1522,  0.1522,  0.1522]],\n",
       "\n",
       "        [[-0.4589, -0.5261, -0.5559,  ...,  1.3050,  1.3050,  1.3050]],\n",
       "\n",
       "        ...,\n",
       "\n",
       "        [[ 0.2719,  0.2574,  0.2552,  ...,  0.5239,  0.5239,  0.5239]],\n",
       "\n",
       "        [[ 0.7096,  0.5723,  0.4603,  ..., -0.3053, -0.3053, -0.3053]],\n",
       "\n",
       "        [[-0.9281, -1.0760, -1.1396,  ...,  0.1649,  0.1649,  0.1649]]]), 'attention_mask': tensor([[1],\n",
       "        [1],\n",
       "        [1],\n",
       "        [1],\n",
       "        [1],\n",
       "        [1],\n",
       "        [1],\n",
       "        [1],\n",
       "        [1],\n",
       "        [1],\n",
       "        [1],\n",
       "        [1],\n",
       "        [1],\n",
       "        [1],\n",
       "        [1],\n",
       "        [1]], dtype=torch.int32), 'target': tensor([0, 0, 0, 0, 0, 0, 0, 1, 1, 0, 1, 1, 0, 1, 1, 0])}"
      ]
     },
     "execution_count": 24,
     "metadata": {},
     "output_type": "execute_result"
    }
   ],
   "source": [
    "batch"
   ]
  },
  {
   "cell_type": "code",
   "execution_count": 25,
   "metadata": {},
   "outputs": [
    {
     "data": {
      "text/plain": [
       "{'input_values': tensor([[[-0.0364,  0.0181,  0.0608,  ...,  0.2903,  0.2903,  0.2903]],\n",
       "\n",
       "        [[-0.5622, -0.6034, -0.5847,  ...,  1.7105,  1.7105,  1.7105]],\n",
       "\n",
       "        [[ 1.2769,  1.4380,  1.5173,  ...,  1.0048,  1.0048,  1.0048]],\n",
       "\n",
       "        ...,\n",
       "\n",
       "        [[-0.1944, -0.2928, -0.3682,  ...,  0.1824,  0.1824,  0.1824]],\n",
       "\n",
       "        [[-0.2111, -0.1042, -0.1088,  ...,  1.3948,  1.3948,  1.3948]],\n",
       "\n",
       "        [[-0.1946, -0.2821, -0.3810,  ...,  1.0127,  1.0127,  1.0127]]]), 'attention_mask': tensor([[1],\n",
       "        [1],\n",
       "        [1],\n",
       "        [1],\n",
       "        [1],\n",
       "        [1],\n",
       "        [1],\n",
       "        [1],\n",
       "        [1],\n",
       "        [1],\n",
       "        [1],\n",
       "        [1],\n",
       "        [1],\n",
       "        [1],\n",
       "        [1],\n",
       "        [1]], dtype=torch.int32), 'target': tensor([0, 0, 1, 0, 0, 0, 0, 0, 0, 0, 0, 1, 0, 0, 1, 0])}"
      ]
     },
     "execution_count": 25,
     "metadata": {},
     "output_type": "execute_result"
    }
   ],
   "source": [
    "next(iter(train_dataloader))"
   ]
  },
  {
   "cell_type": "code",
   "execution_count": 26,
   "metadata": {},
   "outputs": [],
   "source": [
    "n_classes = 2\n",
    "f1 = F1Score(num_classes=n_classes, average='macro', task='multiclass')\n",
    "accuracy = Accuracy(num_classes=n_classes,task='multiclass')"
   ]
  },
  {
   "cell_type": "code",
   "execution_count": 27,
   "metadata": {},
   "outputs": [],
   "source": [
    "from pytorch_lightning.loggers import TensorBoardLogger\n",
    "from torchmetrics import ConfusionMatrix\n",
    "import seaborn as sns\n",
    "import matplotlib.pyplot as plt\n",
    "from PIL import Image\n",
    "import io\n",
    "import torchvision"
   ]
  },
  {
   "cell_type": "code",
   "execution_count": 40,
   "metadata": {},
   "outputs": [],
   "source": [
    "logger = TensorBoardLogger(\"metrics\", name=\"my_experiment_name\")"
   ]
  },
  {
   "cell_type": "code",
   "execution_count": 29,
   "metadata": {},
   "outputs": [],
   "source": [
    "class Wav2Vec2_sound_detection(pl.LightningModule):\n",
    "    def __init__(self, *args, **kwargs):\n",
    "        super().__init__()\n",
    "\n",
    "        self.hparams.update(hparams)\n",
    "\n",
    "        self.freeze_finetune_updates = hparams[\"freeze_finetune_updates\"]\n",
    "                \n",
    "        self.train_losses = [] \n",
    "        self.val_losses = []\n",
    "        self.val_f1_scores = []\n",
    "        self.test_f1_scores = []\n",
    "        self.confussion_matrix = None\n",
    "        \n",
    "        self.model = Wav2Vec2_ChannelModel.from_pretrained(hparams[\"pretrained\"],\n",
    "                                                 conv_dim = (512, 512, 512, 512, 512, 512),\n",
    "                                                 conv_stride = (5, 2, 2, 2, 2, 2),\n",
    "                                                 conv_kernel = (10, 3, 3, 3, 3, 2),\n",
    "                                                 num_feat_extract_layers = 6,\n",
    "                                                 apply_spec_augment=hparams[\"apply_mask\"],\n",
    "                                                 #mask_time_length=hparams[\"mask_time_length\"],\n",
    "                                                 num_input_channels = 1,\n",
    "                                                 ignore_mismatched_sizes=True)\n",
    "\n",
    "\n",
    "        self.model.feature_extractor._freeze_parameters()\n",
    "\n",
    "        # freeze base-model\n",
    "        for param in self.model.parameters():\n",
    "            param.requires_grad = False\n",
    "\n",
    "        self.projector = nn.Linear(self.model.config.hidden_size, self.model.config.classifier_proj_size)\n",
    "        n_classes = 2\n",
    "        self.final_layer = nn.Linear(self.model.config.classifier_proj_size, n_classes)\n",
    "        self.logger_initialized = False\n",
    "    \n",
    "    def initialize_logger(self, logger):\n",
    "        self.logger = logger\n",
    "        self.logger_initialized = True\n",
    "\n",
    "    def forward(self, samples):\n",
    "                \n",
    "        \n",
    "        ft = self.freeze_finetune_updates <= self.trainer.global_step\n",
    "\n",
    "        with torch.no_grad() if not ft else contextlib.ExitStack():\n",
    "            hidden_states = self.model(**samples).last_hidden_state\n",
    "\n",
    "        padding_mask = self.model._get_feature_vector_attention_mask(hidden_states.shape[1], samples[\"attention_mask\"])\n",
    "\n",
    "        hidden_states[~padding_mask] = 0.0\n",
    "\n",
    "        pooled_output = hidden_states.sum(dim=1) / padding_mask.sum(dim=1).view(-1, 1)\n",
    "\n",
    "        proj_pooled = self.projector(pooled_output)\n",
    "\n",
    "        preds = self.final_layer(proj_pooled)\n",
    "\n",
    "        return F.log_softmax(preds, dim=1)\n",
    "\n",
    "    def _get_feature_vector_attention_mask(self, feature_vector_length: int, attention_mask: torch.LongTensor):\n",
    "        output_lengths = self._get_feat_extract_output_lengths(attention_mask.sum(-1)).to(torch.long)\n",
    "        batch_size = attention_mask.shape[0]\n",
    "\n",
    "        attention_mask = torch.zeros(\n",
    "            (batch_size, feature_vector_length), dtype=attention_mask.dtype, device=attention_mask.device\n",
    "        )\n",
    "\n",
    "        attention_mask[(torch.arange(attention_mask.shape[0], device=attention_mask.device), output_lengths - 1)] = 1\n",
    "        attention_mask = attention_mask.flip([-1]).cumsum(-1).flip([-1]).bool()\n",
    "        return attention_mask\n",
    "        \n",
    "        \n",
    "    def training_step(self, train_batch, batch_idx):\n",
    "\n",
    "        y_value = train_batch.pop(\"target\")\n",
    "        log_softs = self.forward(train_batch)\n",
    "    \n",
    "\n",
    "        loss = F.nll_loss(log_softs, y_value)\n",
    "\n",
    "        self.log('loss_step', loss, on_step=True, prog_bar=True)\n",
    "        \n",
    "        \n",
    "        #self.logger.log_metrics({'train_loss': loss.item()}, step=self.global_step)\n",
    "\n",
    "        return loss\n",
    "\n",
    "    def training_epoch_end(self, outputs):\n",
    "        loss = torch.stack([x['loss'] for x in outputs]).mean()\n",
    "        \n",
    "\n",
    "        self.log(\"train_loss\", loss, prog_bar=True)\n",
    "        self.train_losses.append(loss.item())\n",
    "        \n",
    "        self.logger.log_metrics({'train_loss_epoch': loss.item()}, step=self.current_epoch)\n",
    "        \n",
    "\n",
    "    def validation_step(self, val_batch, batch_idx):\n",
    "\n",
    "        y_value = val_batch.pop(\"target\")\n",
    "\n",
    "        log_softs = self.forward(val_batch)\n",
    "        preds = torch.argmax(log_softs, dim=1)\n",
    "\n",
    "        val_acc = accuracy(preds.cpu(), y_value.cpu())\n",
    "        val_f1 = f1(preds.cpu(), y_value.cpu())\n",
    "        val_loss = F.nll_loss(log_softs, y_value)\n",
    "\n",
    "        self.log('val_acc', val_acc, prog_bar=True)\n",
    "        self.log('val_f1', val_f1, prog_bar=True)\n",
    "        self.log('val_loss', val_loss, prog_bar=True)\n",
    "        \n",
    "        \n",
    "        \n",
    "        #self.logger.log_metrics({'val_acc': val_acc, 'val_f1': val_f1, 'val_loss': val_loss.item()}, step=self.global_step)\n",
    "\n",
    "        return {\"val_acc_step\": val_acc, \"val_f1_step\": val_f1, \"val_loss_step\": val_loss}\n",
    "\n",
    "    \n",
    "    def validation_epoch_end(self, outputs):\n",
    "        acc_mean = torch.stack([x['val_acc_step'] for x in outputs]).mean()\n",
    "        f1_mean = torch.stack([x['val_f1_step'] for x in outputs]).mean()\n",
    "        loss_mean = torch.stack([x['val_loss_step'] for x in outputs]).mean()\n",
    "                \n",
    "\n",
    "        self.log(\"val_acc\", acc_mean, prog_bar=True)\n",
    "        self.log(\"val_f1\", f1_mean, prog_bar=True)\n",
    "        self.log(\"val_loss\", loss_mean, prog_bar=True)\n",
    "\n",
    "        self.val_f1_scores.append(f1_mean)\n",
    "        self.val_losses.append(loss_mean.item())\n",
    "        \n",
    "        self.logger.log_metrics({'val_acc_epoch': acc_mean, 'val_f1_epoch': f1_mean, 'val_loss_epoch': loss_mean.item()}, step=self.current_epoch)\n",
    "        \n",
    "    #import torch.functional as F\n",
    "    \n",
    "    \"\"\"def validation_epoch_end(self, outputs):\n",
    "        acc_mean = torch.stack([x['val_acc_step'] for x in outputs]).mean()\n",
    "        f1_mean = torch.stack([x['val_f1_step'] for x in outputs]).mean()\n",
    "        loss_mean = torch.stack([x['val_loss_step'] for x in outputs]).mean()\n",
    "\n",
    "        self.log(\"val_acc\", acc_mean, prog_bar=True)\n",
    "        self.log(\"val_f1\", f1_mean, prog_bar=True)\n",
    "        self.log(\"val_loss\", loss_mean, prog_bar=True)\"\"\"\n",
    "\n",
    "    def test_step(self, test_batch, batch_idx):\n",
    "\n",
    "        y_value = test_batch.pop(\"target\")\n",
    "\n",
    "        log_softs = self.forward(test_batch)\n",
    "        preds = torch.argmax(log_softs, dim=1)\n",
    "\n",
    "        test_acc = accuracy(preds.cpu(), y_value.cpu())\n",
    "        test_f1 = f1(preds.cpu(), y_value.cpu())\n",
    "        test_loss = F.nll_loss(log_softs, y_value)\n",
    "\n",
    "        self.log('test_acc', test_acc, prog_bar=True)\n",
    "        self.log('test_f1', test_f1, prog_bar=True)\n",
    "        self.log('test_loss', test_loss, prog_bar=True)\n",
    "        \n",
    "        #self.logger.log_metrics({'test_acc': test_acc, 'test_f1': test_f1, 'test_loss': test_loss.item()}, step=self.global_step)\n",
    "        \n",
    "        return {\"test_acc_step\": test_acc, \"test_f1_step\": test_f1,  \"test_loss_step\": test_loss, \"preds\": preds, \"y_value\": y_value}\n",
    "\n",
    "    def test_epoch_end(self, outputs):\n",
    "        acc_mean = torch.stack([x['test_acc_step'] for x in outputs]).mean()\n",
    "        f1_mean = torch.stack([x['test_f1_step'] for x in outputs]).mean()\n",
    "        loss_mean = torch.stack([x['test_loss_step'] for x in outputs]).mean()\n",
    "        \n",
    "\n",
    "        self.log(\"test_acc\", acc_mean, prog_bar=True)\n",
    "        self.log(\"test_f1\", f1_mean, prog_bar=True)\n",
    "        self.log(\"test_loss\", loss_mean, prog_bar=True)\n",
    "        \n",
    "        self.test_f1_scores.append(f1_mean)\n",
    "        all_preds = torch.cat([x['preds'] for x in outputs])\n",
    "        all_targets = torch.cat([x['y_value'] for x in outputs])\n",
    "                \n",
    "        confusion_matrix_tb = ConfusionMatrix(num_classes=n_classes, task='multiclass')\n",
    "        confusion_matrix_tb(all_preds.cpu(), all_targets.cpu())\n",
    "        \n",
    "        print(confusion_matrix_tb)\n",
    "        \n",
    "        computed_confusion = confusion_matrix_tb.compute().detach().cpu().numpy().astype(int)\n",
    "        \n",
    "        df_cm = pd.DataFrame(\n",
    "            computed_confusion,\n",
    "        )\n",
    "\n",
    "        fig, ax = plt.subplots(figsize=(10, 5))\n",
    "        fig.subplots_adjust(left=0.05, right=.65)\n",
    "        sns.set(font_scale=1.2)\n",
    "        sns.heatmap(df_cm, annot=True, annot_kws={\"size\": 16}, fmt='d', ax=ax)\n",
    "        \n",
    "        buf = io.BytesIO()\n",
    "\n",
    "        plt.savefig(buf, format='jpeg', bbox_inches='tight')\n",
    "        buf.seek(0)\n",
    "        im = Image.open(buf)\n",
    "        im = torchvision.transforms.ToTensor()(im)\n",
    "                    \n",
    "        self.logger.log_metrics({'test_acc_epoch': acc_mean, 'test_f1_epoch': f1_mean, 'test_loss_epoch': loss_mean.item()}, step=self.current_epoch)\n",
    "        self.logger.experiment.add_image('confusion_matrix', im, global_step=self.global_step)\n",
    "    \n",
    "    \n",
    "    def configure_optimizers(self):\n",
    "\n",
    "        optimizer = torch.optim.Adam(self.parameters(),\n",
    "                         lr=self.hparams[\"lr\"],\n",
    "                         betas=(0.9,0.98),\n",
    "                         eps=1e-6,\n",
    "                         weight_decay=self.hparams[\"w_decay\"])\n",
    "\n",
    "        scheduler = LinearWarmupCosineAnnealingLR(optimizer,\n",
    "                                                  eta_min=0,\n",
    "                                                  warmup_start_lr=self.hparams[\"lr\"],\n",
    "                                                  warmup_epochs=self.hparams[\"warmup_epochs\"],\n",
    "                                                  max_epochs=self.hparams[\"max_epochs\"])\n",
    "\n",
    "        return {'optimizer': optimizer, 'lr_scheduler': scheduler}"
   ]
  },
  {
   "cell_type": "code",
   "execution_count": 30,
   "metadata": {},
   "outputs": [],
   "source": [
    "neptune_logger = NeptuneLogger(\n",
    "    api_key=\"eyJhcGlfYWRkcmVzcyI6Imh0dHBzOi8vYXBwLm5lcHR1bmUuYWkiLCJhcGlfdXJsIjoiaHR0cHM6Ly9hcHAubmVwdHVuZS5haSIsImFwaV9rZXkiOiJjMWEyNTJlZS05ZDI5LTQzZjktYTkzNy00MDczMmZhODU3OWUifQ==\",\n",
    "    project='kgrosero/IA025-Project-wav2vec2')"
   ]
  },
  {
   "cell_type": "code",
   "execution_count": 31,
   "metadata": {},
   "outputs": [],
   "source": [
    "#model = Wav2Vec2_sound_detection(hparams)\n",
    "\n",
    "#trainer = pl.Trainer(gpus=1,\n",
    "#                     logger=neptune_logger,\n",
    " #                    max_epochs=100,\n",
    "  #                  overfit_batches=3,\n",
    "   #                 log_every_n_steps = 1)\n",
    "\n",
    "#trainer.fit(model, train_dataloader, val_dataloader)\n",
    "#del model, trainer # Para não ter estouro de mémoria da GPU\n",
    "#gc.collect()\n",
    "#torch.cuda.empty_cache()"
   ]
  },
  {
   "cell_type": "code",
   "execution_count": 32,
   "metadata": {},
   "outputs": [
    {
     "name": "stderr",
     "output_type": "stream",
     "text": [
      "Some weights of the model checkpoint at facebook/wav2vec2-base-960h were not used when initializing Wav2Vec2_ChannelModel: ['lm_head.bias', 'lm_head.weight', 'wav2vec2.feature_extractor.conv_layers.6.conv.weight']\n",
      "- This IS expected if you are initializing Wav2Vec2_ChannelModel from the checkpoint of a model trained on another task or with another architecture (e.g. initializing a BertForSequenceClassification model from a BertForPreTraining model).\n",
      "- This IS NOT expected if you are initializing Wav2Vec2_ChannelModel from the checkpoint of a model that you expect to be exactly identical (initializing a BertForSequenceClassification model from a BertForSequenceClassification model).\n",
      "Some weights of Wav2Vec2_ChannelModel were not initialized from the model checkpoint at facebook/wav2vec2-base-960h and are newly initialized: ['wav2vec2.masked_spec_embed']\n",
      "You should probably TRAIN this model on a down-stream task to be able to use it for predictions and inference.\n",
      "/home/cslab03/anaconda3/envs/coEnv/lib/python3.9/site-packages/pytorch_lightning/trainer/connectors/accelerator_connector.py:478: LightningDeprecationWarning: Setting `Trainer(gpus=1)` is deprecated in v1.7 and will be removed in v2.0. Please use `Trainer(accelerator='gpu', devices=1)` instead.\n",
      "  rank_zero_deprecation(\n",
      "Using 16bit None Automatic Mixed Precision (AMP)\n",
      "GPU available: True (cuda), used: True\n",
      "TPU available: False, using: 0 TPU cores\n",
      "IPU available: False, using: 0 IPUs\n",
      "HPU available: False, using: 0 HPUs\n"
     ]
    },
    {
     "name": "stdout",
     "output_type": "stream",
     "text": [
      "Files in /home/cslab03/Desktop/QuakeWavNet/Results/: ['wav2vec2-sound_sismic_train']\n",
      "Saving checkpoints to /home/cslab03/Desktop/QuakeWavNet/Results/\n"
     ]
    }
   ],
   "source": [
    "pl_model= Wav2Vec2_sound_detection(hparams=hparams, logger = logger)\n",
    "checkpoint_path = '/home/cslab03/Desktop/QuakeWavNet/Results/'\n",
    "checkpoint_dir = os.path.dirname(os.path.abspath(checkpoint_path))\n",
    "print(f'Files in {checkpoint_path}: {os.listdir(checkpoint_path)}')\n",
    "print(f'Saving checkpoints to {checkpoint_path}')\n",
    "checkpoint_callback = pl.callbacks.ModelCheckpoint(filename=hparams[\"version\"],\n",
    "                                                  dirpath=checkpoint_dir,\n",
    "                                                  save_top_k=1,\n",
    "                                                  verbose = True,\n",
    "                                                  monitor=\"val_f1\", mode=\"max\")\n",
    "early_stop_callback = pl.callbacks.EarlyStopping(monitor=\"val_f1\", patience=hparams[\"patience\"], mode='max')\n",
    "early_stop_callback_1 = pl.callbacks.EarlyStopping(monitor=\"val_loss\", patience=5, mode='max')\n",
    "callbacks_list = [early_stop_callback]\n",
    "lr_monitor = pl.callbacks.LearningRateMonitor(logging_interval='step')\n",
    "\n",
    "trainer = pl.Trainer(gpus=1,\n",
    "                     precision=16,\n",
    "                     logger=logger,\n",
    "                     num_sanity_val_steps=0,\n",
    "                     accumulate_grad_batches=hparams[\"accum_grads\"],\n",
    "                     enable_checkpointing=True,\n",
    "                     callbacks=callbacks_list + [lr_monitor, checkpoint_callback],\n",
    "                     max_epochs=50)"
   ]
  },
  {
   "cell_type": "code",
   "execution_count": 33,
   "metadata": {},
   "outputs": [
    {
     "name": "stderr",
     "output_type": "stream",
     "text": [
      "You are using a CUDA device ('NVIDIA RTX A4000') that has Tensor Cores. To properly utilize them, you should set `torch.set_float32_matmul_precision('medium' | 'high')` which will trade-off precision for performance. For more details, read https://pytorch.org/docs/stable/generated/torch.set_float32_matmul_precision.html#torch.set_float32_matmul_precision\n",
      "/home/cslab03/anaconda3/envs/coEnv/lib/python3.9/site-packages/pytorch_lightning/callbacks/model_checkpoint.py:613: UserWarning: Checkpoint directory /home/cslab03/Desktop/QuakeWavNet exists and is not empty.\n",
      "  rank_zero_warn(f\"Checkpoint directory {dirpath} exists and is not empty.\")\n",
      "LOCAL_RANK: 0 - CUDA_VISIBLE_DEVICES: [0]\n",
      "/tmp/ipykernel_26758/2956743215.py:215: UnderReviewWarning: The feature LinearWarmupCosineAnnealingLR is currently marked under review. The compatibility with other Lightning projects is not guaranteed and API may change at any time. The API and functionality may change without warning in future releases. More details: https://lightning-bolts.readthedocs.io/en/latest/stability.html\n",
      "  scheduler = LinearWarmupCosineAnnealingLR(optimizer,\n",
      "\n",
      "  | Name        | Type                  | Params\n",
      "------------------------------------------------------\n",
      "0 | model       | Wav2Vec2_ChannelModel | 93.8 M\n",
      "1 | projector   | Linear                | 196 K \n",
      "2 | final_layer | Linear                | 514   \n",
      "------------------------------------------------------\n",
      "94.0 M    Trainable params\n",
      "0         Non-trainable params\n",
      "94.0 M    Total params\n",
      "188.090   Total estimated model params size (MB)\n"
     ]
    },
    {
     "data": {
      "application/vnd.jupyter.widget-view+json": {
       "model_id": "53572f4bd7784442a0d6a66fb497d3c5",
       "version_major": 2,
       "version_minor": 0
      },
      "text/plain": [
       "Training: 0it [00:00, ?it/s]"
      ]
     },
     "metadata": {},
     "output_type": "display_data"
    },
    {
     "data": {
      "application/vnd.jupyter.widget-view+json": {
       "model_id": "6e79be9a4086420b94fc70ea4cd75aee",
       "version_major": 2,
       "version_minor": 0
      },
      "text/plain": [
       "Validation: 0it [00:00, ?it/s]"
      ]
     },
     "metadata": {},
     "output_type": "display_data"
    },
    {
     "name": "stderr",
     "output_type": "stream",
     "text": [
      "Epoch 0, global step 222: 'val_f1' reached 0.87911 (best 0.87911), saving model to '/home/cslab03/Desktop/QuakeWavNet/wav2vec2-sound_sismic_train-v2.ckpt' as top 1\n"
     ]
    },
    {
     "data": {
      "application/vnd.jupyter.widget-view+json": {
       "model_id": "f2be0b0b184f42ae9caa9d0908875b42",
       "version_major": 2,
       "version_minor": 0
      },
      "text/plain": [
       "Validation: 0it [00:00, ?it/s]"
      ]
     },
     "metadata": {},
     "output_type": "display_data"
    },
    {
     "name": "stderr",
     "output_type": "stream",
     "text": [
      "Epoch 1, global step 444: 'val_f1' reached 0.89553 (best 0.89553), saving model to '/home/cslab03/Desktop/QuakeWavNet/wav2vec2-sound_sismic_train-v2.ckpt' as top 1\n"
     ]
    },
    {
     "data": {
      "application/vnd.jupyter.widget-view+json": {
       "model_id": "fef679fcc8c849ce9753703e63310949",
       "version_major": 2,
       "version_minor": 0
      },
      "text/plain": [
       "Validation: 0it [00:00, ?it/s]"
      ]
     },
     "metadata": {},
     "output_type": "display_data"
    },
    {
     "name": "stderr",
     "output_type": "stream",
     "text": [
      "Epoch 2, global step 666: 'val_f1' was not in top 1\n"
     ]
    },
    {
     "data": {
      "application/vnd.jupyter.widget-view+json": {
       "model_id": "23272d6a39ff41b9b4635433819f7316",
       "version_major": 2,
       "version_minor": 0
      },
      "text/plain": [
       "Validation: 0it [00:00, ?it/s]"
      ]
     },
     "metadata": {},
     "output_type": "display_data"
    },
    {
     "name": "stderr",
     "output_type": "stream",
     "text": [
      "Epoch 3, global step 888: 'val_f1' reached 0.90018 (best 0.90018), saving model to '/home/cslab03/Desktop/QuakeWavNet/wav2vec2-sound_sismic_train-v2.ckpt' as top 1\n"
     ]
    },
    {
     "data": {
      "application/vnd.jupyter.widget-view+json": {
       "model_id": "0a489aa4a9234ad484128b5473329b6c",
       "version_major": 2,
       "version_minor": 0
      },
      "text/plain": [
       "Validation: 0it [00:00, ?it/s]"
      ]
     },
     "metadata": {},
     "output_type": "display_data"
    },
    {
     "name": "stderr",
     "output_type": "stream",
     "text": [
      "Epoch 4, global step 1110: 'val_f1' was not in top 1\n"
     ]
    },
    {
     "data": {
      "application/vnd.jupyter.widget-view+json": {
       "model_id": "3415368c2cb64a4fa3e7f05e11fe1480",
       "version_major": 2,
       "version_minor": 0
      },
      "text/plain": [
       "Validation: 0it [00:00, ?it/s]"
      ]
     },
     "metadata": {},
     "output_type": "display_data"
    },
    {
     "name": "stderr",
     "output_type": "stream",
     "text": [
      "Epoch 5, global step 1332: 'val_f1' reached 0.90184 (best 0.90184), saving model to '/home/cslab03/Desktop/QuakeWavNet/wav2vec2-sound_sismic_train-v2.ckpt' as top 1\n"
     ]
    },
    {
     "data": {
      "application/vnd.jupyter.widget-view+json": {
       "model_id": "e6dc5c95cbfb466e8c0889bd39cfab07",
       "version_major": 2,
       "version_minor": 0
      },
      "text/plain": [
       "Validation: 0it [00:00, ?it/s]"
      ]
     },
     "metadata": {},
     "output_type": "display_data"
    },
    {
     "name": "stderr",
     "output_type": "stream",
     "text": [
      "Epoch 6, global step 1554: 'val_f1' reached 0.91011 (best 0.91011), saving model to '/home/cslab03/Desktop/QuakeWavNet/wav2vec2-sound_sismic_train-v2.ckpt' as top 1\n"
     ]
    },
    {
     "data": {
      "application/vnd.jupyter.widget-view+json": {
       "model_id": "aedb9fa525304e618efa1648f3f0be92",
       "version_major": 2,
       "version_minor": 0
      },
      "text/plain": [
       "Validation: 0it [00:00, ?it/s]"
      ]
     },
     "metadata": {},
     "output_type": "display_data"
    },
    {
     "name": "stderr",
     "output_type": "stream",
     "text": [
      "Epoch 7, global step 1776: 'val_f1' reached 0.91288 (best 0.91288), saving model to '/home/cslab03/Desktop/QuakeWavNet/wav2vec2-sound_sismic_train-v2.ckpt' as top 1\n"
     ]
    },
    {
     "data": {
      "application/vnd.jupyter.widget-view+json": {
       "model_id": "0145b102c42a44229bb5fffd8cb7e946",
       "version_major": 2,
       "version_minor": 0
      },
      "text/plain": [
       "Validation: 0it [00:00, ?it/s]"
      ]
     },
     "metadata": {},
     "output_type": "display_data"
    },
    {
     "name": "stderr",
     "output_type": "stream",
     "text": [
      "Epoch 8, global step 1998: 'val_f1' was not in top 1\n"
     ]
    },
    {
     "data": {
      "application/vnd.jupyter.widget-view+json": {
       "model_id": "a64f661a9cc2452884ca85a5548805df",
       "version_major": 2,
       "version_minor": 0
      },
      "text/plain": [
       "Validation: 0it [00:00, ?it/s]"
      ]
     },
     "metadata": {},
     "output_type": "display_data"
    },
    {
     "name": "stderr",
     "output_type": "stream",
     "text": [
      "Epoch 9, global step 2220: 'val_f1' was not in top 1\n"
     ]
    },
    {
     "data": {
      "application/vnd.jupyter.widget-view+json": {
       "model_id": "9ea9614b05774150ae02d544e714c4f3",
       "version_major": 2,
       "version_minor": 0
      },
      "text/plain": [
       "Validation: 0it [00:00, ?it/s]"
      ]
     },
     "metadata": {},
     "output_type": "display_data"
    },
    {
     "name": "stderr",
     "output_type": "stream",
     "text": [
      "Epoch 10, global step 2442: 'val_f1' was not in top 1\n"
     ]
    },
    {
     "data": {
      "application/vnd.jupyter.widget-view+json": {
       "model_id": "3a0d9cce37694fc79206d0897352044e",
       "version_major": 2,
       "version_minor": 0
      },
      "text/plain": [
       "Validation: 0it [00:00, ?it/s]"
      ]
     },
     "metadata": {},
     "output_type": "display_data"
    },
    {
     "name": "stderr",
     "output_type": "stream",
     "text": [
      "Epoch 11, global step 2664: 'val_f1' was not in top 1\n"
     ]
    },
    {
     "data": {
      "application/vnd.jupyter.widget-view+json": {
       "model_id": "0834b9946c614aa2821cfb382b16359e",
       "version_major": 2,
       "version_minor": 0
      },
      "text/plain": [
       "Validation: 0it [00:00, ?it/s]"
      ]
     },
     "metadata": {},
     "output_type": "display_data"
    },
    {
     "name": "stderr",
     "output_type": "stream",
     "text": [
      "Epoch 12, global step 2886: 'val_f1' reached 0.91593 (best 0.91593), saving model to '/home/cslab03/Desktop/QuakeWavNet/wav2vec2-sound_sismic_train-v2.ckpt' as top 1\n"
     ]
    },
    {
     "data": {
      "application/vnd.jupyter.widget-view+json": {
       "model_id": "47a7072746f3494185dcb2f050d329d8",
       "version_major": 2,
       "version_minor": 0
      },
      "text/plain": [
       "Validation: 0it [00:00, ?it/s]"
      ]
     },
     "metadata": {},
     "output_type": "display_data"
    },
    {
     "name": "stderr",
     "output_type": "stream",
     "text": [
      "Epoch 13, global step 3108: 'val_f1' reached 0.91702 (best 0.91702), saving model to '/home/cslab03/Desktop/QuakeWavNet/wav2vec2-sound_sismic_train-v2.ckpt' as top 1\n"
     ]
    },
    {
     "data": {
      "application/vnd.jupyter.widget-view+json": {
       "model_id": "7e41ace4fdaf45368aa03402dac9ee24",
       "version_major": 2,
       "version_minor": 0
      },
      "text/plain": [
       "Validation: 0it [00:00, ?it/s]"
      ]
     },
     "metadata": {},
     "output_type": "display_data"
    },
    {
     "name": "stderr",
     "output_type": "stream",
     "text": [
      "Epoch 14, global step 3330: 'val_f1' was not in top 1\n"
     ]
    },
    {
     "data": {
      "application/vnd.jupyter.widget-view+json": {
       "model_id": "69f7a62a018f4c539df0ce2c2a4d6b82",
       "version_major": 2,
       "version_minor": 0
      },
      "text/plain": [
       "Validation: 0it [00:00, ?it/s]"
      ]
     },
     "metadata": {},
     "output_type": "display_data"
    },
    {
     "name": "stderr",
     "output_type": "stream",
     "text": [
      "Epoch 15, global step 3552: 'val_f1' was not in top 1\n"
     ]
    },
    {
     "data": {
      "application/vnd.jupyter.widget-view+json": {
       "model_id": "2976798c65534e44bccd4ca4fe746db2",
       "version_major": 2,
       "version_minor": 0
      },
      "text/plain": [
       "Validation: 0it [00:00, ?it/s]"
      ]
     },
     "metadata": {},
     "output_type": "display_data"
    },
    {
     "name": "stderr",
     "output_type": "stream",
     "text": [
      "Epoch 16, global step 3774: 'val_f1' was not in top 1\n"
     ]
    },
    {
     "data": {
      "application/vnd.jupyter.widget-view+json": {
       "model_id": "50a074735b424be58f198314b3ab4421",
       "version_major": 2,
       "version_minor": 0
      },
      "text/plain": [
       "Validation: 0it [00:00, ?it/s]"
      ]
     },
     "metadata": {},
     "output_type": "display_data"
    },
    {
     "name": "stderr",
     "output_type": "stream",
     "text": [
      "Epoch 17, global step 3996: 'val_f1' was not in top 1\n"
     ]
    },
    {
     "data": {
      "application/vnd.jupyter.widget-view+json": {
       "model_id": "beaf224889334eaba90fb743113e0531",
       "version_major": 2,
       "version_minor": 0
      },
      "text/plain": [
       "Validation: 0it [00:00, ?it/s]"
      ]
     },
     "metadata": {},
     "output_type": "display_data"
    },
    {
     "name": "stderr",
     "output_type": "stream",
     "text": [
      "Epoch 18, global step 4218: 'val_f1' was not in top 1\n"
     ]
    },
    {
     "data": {
      "application/vnd.jupyter.widget-view+json": {
       "model_id": "184ccb7c4ef14b068ea65303ff353828",
       "version_major": 2,
       "version_minor": 0
      },
      "text/plain": [
       "Validation: 0it [00:00, ?it/s]"
      ]
     },
     "metadata": {},
     "output_type": "display_data"
    },
    {
     "name": "stderr",
     "output_type": "stream",
     "text": [
      "Epoch 19, global step 4440: 'val_f1' reached 0.91761 (best 0.91761), saving model to '/home/cslab03/Desktop/QuakeWavNet/wav2vec2-sound_sismic_train-v2.ckpt' as top 1\n"
     ]
    },
    {
     "data": {
      "application/vnd.jupyter.widget-view+json": {
       "model_id": "52ead0e8350e4c43bf07e167bb8809e5",
       "version_major": 2,
       "version_minor": 0
      },
      "text/plain": [
       "Validation: 0it [00:00, ?it/s]"
      ]
     },
     "metadata": {},
     "output_type": "display_data"
    },
    {
     "name": "stderr",
     "output_type": "stream",
     "text": [
      "Epoch 20, global step 4662: 'val_f1' was not in top 1\n"
     ]
    },
    {
     "data": {
      "application/vnd.jupyter.widget-view+json": {
       "model_id": "77444e4cba83400a9d22ed7fd47f83b4",
       "version_major": 2,
       "version_minor": 0
      },
      "text/plain": [
       "Validation: 0it [00:00, ?it/s]"
      ]
     },
     "metadata": {},
     "output_type": "display_data"
    },
    {
     "name": "stderr",
     "output_type": "stream",
     "text": [
      "Epoch 21, global step 4884: 'val_f1' was not in top 1\n"
     ]
    },
    {
     "data": {
      "application/vnd.jupyter.widget-view+json": {
       "model_id": "0c74ca11156d4f948ba3fa0db59b612c",
       "version_major": 2,
       "version_minor": 0
      },
      "text/plain": [
       "Validation: 0it [00:00, ?it/s]"
      ]
     },
     "metadata": {},
     "output_type": "display_data"
    },
    {
     "name": "stderr",
     "output_type": "stream",
     "text": [
      "Epoch 22, global step 5106: 'val_f1' was not in top 1\n"
     ]
    },
    {
     "data": {
      "application/vnd.jupyter.widget-view+json": {
       "model_id": "14e1bed1c1e94c7c8002c8032ec67ace",
       "version_major": 2,
       "version_minor": 0
      },
      "text/plain": [
       "Validation: 0it [00:00, ?it/s]"
      ]
     },
     "metadata": {},
     "output_type": "display_data"
    },
    {
     "name": "stderr",
     "output_type": "stream",
     "text": [
      "Epoch 23, global step 5328: 'val_f1' was not in top 1\n"
     ]
    },
    {
     "data": {
      "application/vnd.jupyter.widget-view+json": {
       "model_id": "7e4fd3f09ba94932a3efb8fed925013d",
       "version_major": 2,
       "version_minor": 0
      },
      "text/plain": [
       "Validation: 0it [00:00, ?it/s]"
      ]
     },
     "metadata": {},
     "output_type": "display_data"
    },
    {
     "name": "stderr",
     "output_type": "stream",
     "text": [
      "Epoch 24, global step 5550: 'val_f1' was not in top 1\n"
     ]
    },
    {
     "data": {
      "application/vnd.jupyter.widget-view+json": {
       "model_id": "ba70fff644504dbab4a819647e974661",
       "version_major": 2,
       "version_minor": 0
      },
      "text/plain": [
       "Validation: 0it [00:00, ?it/s]"
      ]
     },
     "metadata": {},
     "output_type": "display_data"
    },
    {
     "name": "stderr",
     "output_type": "stream",
     "text": [
      "Epoch 25, global step 5772: 'val_f1' was not in top 1\n"
     ]
    },
    {
     "data": {
      "application/vnd.jupyter.widget-view+json": {
       "model_id": "45e30e0851d54850bc10eea915546f12",
       "version_major": 2,
       "version_minor": 0
      },
      "text/plain": [
       "Validation: 0it [00:00, ?it/s]"
      ]
     },
     "metadata": {},
     "output_type": "display_data"
    },
    {
     "name": "stderr",
     "output_type": "stream",
     "text": [
      "Epoch 26, global step 5994: 'val_f1' was not in top 1\n"
     ]
    },
    {
     "data": {
      "application/vnd.jupyter.widget-view+json": {
       "model_id": "33dee7a18b2747ed8047fda49da5a8a3",
       "version_major": 2,
       "version_minor": 0
      },
      "text/plain": [
       "Validation: 0it [00:00, ?it/s]"
      ]
     },
     "metadata": {},
     "output_type": "display_data"
    },
    {
     "name": "stderr",
     "output_type": "stream",
     "text": [
      "Epoch 27, global step 6216: 'val_f1' was not in top 1\n"
     ]
    },
    {
     "data": {
      "application/vnd.jupyter.widget-view+json": {
       "model_id": "bc602d4526944f0b86b7d8e753667d65",
       "version_major": 2,
       "version_minor": 0
      },
      "text/plain": [
       "Validation: 0it [00:00, ?it/s]"
      ]
     },
     "metadata": {},
     "output_type": "display_data"
    },
    {
     "name": "stderr",
     "output_type": "stream",
     "text": [
      "Epoch 28, global step 6438: 'val_f1' reached 0.91821 (best 0.91821), saving model to '/home/cslab03/Desktop/QuakeWavNet/wav2vec2-sound_sismic_train-v2.ckpt' as top 1\n"
     ]
    },
    {
     "data": {
      "application/vnd.jupyter.widget-view+json": {
       "model_id": "d4c2688b5cdb491189b60304f8efb446",
       "version_major": 2,
       "version_minor": 0
      },
      "text/plain": [
       "Validation: 0it [00:00, ?it/s]"
      ]
     },
     "metadata": {},
     "output_type": "display_data"
    },
    {
     "name": "stderr",
     "output_type": "stream",
     "text": [
      "Epoch 29, global step 6660: 'val_f1' was not in top 1\n"
     ]
    },
    {
     "data": {
      "application/vnd.jupyter.widget-view+json": {
       "model_id": "98884117364f4e32a7ddedca5060694c",
       "version_major": 2,
       "version_minor": 0
      },
      "text/plain": [
       "Validation: 0it [00:00, ?it/s]"
      ]
     },
     "metadata": {},
     "output_type": "display_data"
    },
    {
     "name": "stderr",
     "output_type": "stream",
     "text": [
      "Epoch 30, global step 6882: 'val_f1' was not in top 1\n"
     ]
    },
    {
     "data": {
      "application/vnd.jupyter.widget-view+json": {
       "model_id": "88f7c9194569452e929c4098ac48decf",
       "version_major": 2,
       "version_minor": 0
      },
      "text/plain": [
       "Validation: 0it [00:00, ?it/s]"
      ]
     },
     "metadata": {},
     "output_type": "display_data"
    },
    {
     "name": "stderr",
     "output_type": "stream",
     "text": [
      "Epoch 31, global step 7104: 'val_f1' was not in top 1\n"
     ]
    },
    {
     "data": {
      "application/vnd.jupyter.widget-view+json": {
       "model_id": "a944598c395e4868a7ef32a4fad55cb9",
       "version_major": 2,
       "version_minor": 0
      },
      "text/plain": [
       "Validation: 0it [00:00, ?it/s]"
      ]
     },
     "metadata": {},
     "output_type": "display_data"
    },
    {
     "name": "stderr",
     "output_type": "stream",
     "text": [
      "Epoch 32, global step 7326: 'val_f1' reached 0.92012 (best 0.92012), saving model to '/home/cslab03/Desktop/QuakeWavNet/wav2vec2-sound_sismic_train-v2.ckpt' as top 1\n"
     ]
    },
    {
     "data": {
      "application/vnd.jupyter.widget-view+json": {
       "model_id": "86a5e2c0b69745beb5f604a1140555df",
       "version_major": 2,
       "version_minor": 0
      },
      "text/plain": [
       "Validation: 0it [00:00, ?it/s]"
      ]
     },
     "metadata": {},
     "output_type": "display_data"
    },
    {
     "name": "stderr",
     "output_type": "stream",
     "text": [
      "Epoch 33, global step 7548: 'val_f1' was not in top 1\n"
     ]
    },
    {
     "data": {
      "application/vnd.jupyter.widget-view+json": {
       "model_id": "cf93efb339d34453b4cdf18b4fff27d9",
       "version_major": 2,
       "version_minor": 0
      },
      "text/plain": [
       "Validation: 0it [00:00, ?it/s]"
      ]
     },
     "metadata": {},
     "output_type": "display_data"
    },
    {
     "name": "stderr",
     "output_type": "stream",
     "text": [
      "Epoch 34, global step 7770: 'val_f1' was not in top 1\n"
     ]
    },
    {
     "data": {
      "application/vnd.jupyter.widget-view+json": {
       "model_id": "9f3037275e294f4ea03af98d2a1c1d26",
       "version_major": 2,
       "version_minor": 0
      },
      "text/plain": [
       "Validation: 0it [00:00, ?it/s]"
      ]
     },
     "metadata": {},
     "output_type": "display_data"
    },
    {
     "name": "stderr",
     "output_type": "stream",
     "text": [
      "Epoch 35, global step 7992: 'val_f1' was not in top 1\n"
     ]
    },
    {
     "data": {
      "application/vnd.jupyter.widget-view+json": {
       "model_id": "2a53bf1a3a89467f8982973f2190207b",
       "version_major": 2,
       "version_minor": 0
      },
      "text/plain": [
       "Validation: 0it [00:00, ?it/s]"
      ]
     },
     "metadata": {},
     "output_type": "display_data"
    },
    {
     "name": "stderr",
     "output_type": "stream",
     "text": [
      "Epoch 36, global step 8214: 'val_f1' was not in top 1\n"
     ]
    },
    {
     "data": {
      "application/vnd.jupyter.widget-view+json": {
       "model_id": "1ed663b7a49e4634a478ee009031a015",
       "version_major": 2,
       "version_minor": 0
      },
      "text/plain": [
       "Validation: 0it [00:00, ?it/s]"
      ]
     },
     "metadata": {},
     "output_type": "display_data"
    },
    {
     "name": "stderr",
     "output_type": "stream",
     "text": [
      "Epoch 37, global step 8436: 'val_f1' was not in top 1\n"
     ]
    },
    {
     "data": {
      "application/vnd.jupyter.widget-view+json": {
       "model_id": "29a2e46912dc478491a55318455fc622",
       "version_major": 2,
       "version_minor": 0
      },
      "text/plain": [
       "Validation: 0it [00:00, ?it/s]"
      ]
     },
     "metadata": {},
     "output_type": "display_data"
    },
    {
     "name": "stderr",
     "output_type": "stream",
     "text": [
      "Epoch 38, global step 8658: 'val_f1' was not in top 1\n"
     ]
    },
    {
     "data": {
      "application/vnd.jupyter.widget-view+json": {
       "model_id": "1cfebeea46ac454dac46f9524733aa1b",
       "version_major": 2,
       "version_minor": 0
      },
      "text/plain": [
       "Validation: 0it [00:00, ?it/s]"
      ]
     },
     "metadata": {},
     "output_type": "display_data"
    },
    {
     "name": "stderr",
     "output_type": "stream",
     "text": [
      "Epoch 39, global step 8880: 'val_f1' was not in top 1\n"
     ]
    },
    {
     "data": {
      "application/vnd.jupyter.widget-view+json": {
       "model_id": "7ceccce646004ded9f29fcf6b225d25d",
       "version_major": 2,
       "version_minor": 0
      },
      "text/plain": [
       "Validation: 0it [00:00, ?it/s]"
      ]
     },
     "metadata": {},
     "output_type": "display_data"
    },
    {
     "name": "stderr",
     "output_type": "stream",
     "text": [
      "Epoch 40, global step 9102: 'val_f1' was not in top 1\n"
     ]
    },
    {
     "data": {
      "application/vnd.jupyter.widget-view+json": {
       "model_id": "ad3f33e3d9b44b1181784e18a9a561eb",
       "version_major": 2,
       "version_minor": 0
      },
      "text/plain": [
       "Validation: 0it [00:00, ?it/s]"
      ]
     },
     "metadata": {},
     "output_type": "display_data"
    },
    {
     "name": "stderr",
     "output_type": "stream",
     "text": [
      "Epoch 41, global step 9324: 'val_f1' was not in top 1\n"
     ]
    },
    {
     "data": {
      "application/vnd.jupyter.widget-view+json": {
       "model_id": "d8c66c8eaafa45509a76027ce6579e53",
       "version_major": 2,
       "version_minor": 0
      },
      "text/plain": [
       "Validation: 0it [00:00, ?it/s]"
      ]
     },
     "metadata": {},
     "output_type": "display_data"
    },
    {
     "name": "stderr",
     "output_type": "stream",
     "text": [
      "Epoch 42, global step 9546: 'val_f1' was not in top 1\n"
     ]
    },
    {
     "data": {
      "application/vnd.jupyter.widget-view+json": {
       "model_id": "9f3731a7016447e7a3676eb1f6e9878d",
       "version_major": 2,
       "version_minor": 0
      },
      "text/plain": [
       "Validation: 0it [00:00, ?it/s]"
      ]
     },
     "metadata": {},
     "output_type": "display_data"
    },
    {
     "name": "stderr",
     "output_type": "stream",
     "text": [
      "Epoch 43, global step 9768: 'val_f1' was not in top 1\n"
     ]
    },
    {
     "data": {
      "application/vnd.jupyter.widget-view+json": {
       "model_id": "f7a3ba7497df4f46bd338e90d3a18545",
       "version_major": 2,
       "version_minor": 0
      },
      "text/plain": [
       "Validation: 0it [00:00, ?it/s]"
      ]
     },
     "metadata": {},
     "output_type": "display_data"
    },
    {
     "name": "stderr",
     "output_type": "stream",
     "text": [
      "Epoch 44, global step 9990: 'val_f1' was not in top 1\n"
     ]
    },
    {
     "data": {
      "application/vnd.jupyter.widget-view+json": {
       "model_id": "dc4b7554dc064d709d4ca9c8bffe5157",
       "version_major": 2,
       "version_minor": 0
      },
      "text/plain": [
       "Validation: 0it [00:00, ?it/s]"
      ]
     },
     "metadata": {},
     "output_type": "display_data"
    },
    {
     "name": "stderr",
     "output_type": "stream",
     "text": [
      "Epoch 45, global step 10212: 'val_f1' was not in top 1\n"
     ]
    },
    {
     "data": {
      "application/vnd.jupyter.widget-view+json": {
       "model_id": "fc96cb2f85f04d288e1a04190d59d912",
       "version_major": 2,
       "version_minor": 0
      },
      "text/plain": [
       "Validation: 0it [00:00, ?it/s]"
      ]
     },
     "metadata": {},
     "output_type": "display_data"
    },
    {
     "name": "stderr",
     "output_type": "stream",
     "text": [
      "Epoch 46, global step 10434: 'val_f1' was not in top 1\n"
     ]
    },
    {
     "data": {
      "application/vnd.jupyter.widget-view+json": {
       "model_id": "ac43896c98744486af41800f7d602860",
       "version_major": 2,
       "version_minor": 0
      },
      "text/plain": [
       "Validation: 0it [00:00, ?it/s]"
      ]
     },
     "metadata": {},
     "output_type": "display_data"
    },
    {
     "name": "stderr",
     "output_type": "stream",
     "text": [
      "Epoch 47, global step 10656: 'val_f1' was not in top 1\n"
     ]
    },
    {
     "data": {
      "application/vnd.jupyter.widget-view+json": {
       "model_id": "7842aaf82fd245ac963dff2a3927d262",
       "version_major": 2,
       "version_minor": 0
      },
      "text/plain": [
       "Validation: 0it [00:00, ?it/s]"
      ]
     },
     "metadata": {},
     "output_type": "display_data"
    },
    {
     "name": "stderr",
     "output_type": "stream",
     "text": [
      "Epoch 48, global step 10878: 'val_f1' was not in top 1\n"
     ]
    },
    {
     "data": {
      "application/vnd.jupyter.widget-view+json": {
       "model_id": "1625fe38ff5d4faa9b43f3265db62494",
       "version_major": 2,
       "version_minor": 0
      },
      "text/plain": [
       "Validation: 0it [00:00, ?it/s]"
      ]
     },
     "metadata": {},
     "output_type": "display_data"
    },
    {
     "name": "stderr",
     "output_type": "stream",
     "text": [
      "Epoch 49, global step 11100: 'val_f1' was not in top 1\n",
      "`Trainer.fit` stopped: `max_epochs=50` reached.\n"
     ]
    }
   ],
   "source": [
    "# Definir listas para almacenar las métricas por época\n",
    "train_losses = []\n",
    "val_losses = []\n",
    "val_f1_scores = []\n",
    "\n",
    "torch.cuda.empty_cache()\n",
    "\n",
    "trainer.fit(pl_model, train_dataloader, val_dataloader)"
   ]
  },
  {
   "cell_type": "code",
   "execution_count": 34,
   "metadata": {},
   "outputs": [
    {
     "name": "stdout",
     "output_type": "stream",
     "text": [
      "Saving processor to: /home/cslab03/Desktop/QuakeWavNet/Results/wav2vec2-sound_sismic_train\n"
     ]
    }
   ],
   "source": [
    "if not os.path.isfile(checkpoint_path + hparams[\"version\"]):\n",
    "    print('Saving processor to: ' + checkpoint_path + hparams[\"version\"])\n",
    "    processor.save_pretrained(checkpoint_path + hparams[\"version\"])"
   ]
  },
  {
   "cell_type": "code",
   "execution_count": 35,
   "metadata": {},
   "outputs": [
    {
     "data": {
      "image/png": "[encoded data removed]",
      "text/plain": [
       "<Figure size 640x480 with 1 Axes>"
      ]
     },
     "metadata": {},
     "output_type": "display_data"
    }
   ],
   "source": [
    "checkpoint_callback.best_model_path\n",
    "import matplotlib.pyplot as plt\n",
    "\n",
    "# Después de completar el entrenamiento\n",
    "epochs = list(range(1, len(pl_model.val_f1_scores) + 1))\n",
    "plt.plot(epochs, pl_model.val_f1_scores, marker='o')\n",
    "plt.xlabel('Época')\n",
    "plt.ylabel('F1-score')\n",
    "plt.title('F1-score por Época')\n",
    "plt.grid(True)\n",
    "plt.show()"
   ]
  },
  {
   "cell_type": "code",
   "execution_count": 36,
   "metadata": {},
   "outputs": [
    {
     "name": "stdout",
     "output_type": "stream",
     "text": [
      "/home/cslab03/Desktop/QuakeWavNet/wav2vec2-sound_sismic_train-v2.ckpt\n"
     ]
    },
    {
     "name": "stderr",
     "output_type": "stream",
     "text": [
      "Some weights of the model checkpoint at facebook/wav2vec2-base-960h were not used when initializing Wav2Vec2_ChannelModel: ['lm_head.bias', 'lm_head.weight', 'wav2vec2.feature_extractor.conv_layers.6.conv.weight']\n",
      "- This IS expected if you are initializing Wav2Vec2_ChannelModel from the checkpoint of a model trained on another task or with another architecture (e.g. initializing a BertForSequenceClassification model from a BertForPreTraining model).\n",
      "- This IS NOT expected if you are initializing Wav2Vec2_ChannelModel from the checkpoint of a model that you expect to be exactly identical (initializing a BertForSequenceClassification model from a BertForSequenceClassification model).\n",
      "Some weights of Wav2Vec2_ChannelModel were not initialized from the model checkpoint at facebook/wav2vec2-base-960h and are newly initialized: ['wav2vec2.masked_spec_embed']\n",
      "You should probably TRAIN this model on a down-stream task to be able to use it for predictions and inference.\n"
     ]
    }
   ],
   "source": [
    "best_model = checkpoint_callback.best_model_path\n",
    "# best_model = \"/content/drive/MyDrive/Wav2Vec2_ORVP/wav2vec2_huggingface_fairseq_orvp_test1-epoch=4-step=23459.ckpt\"\n",
    "print(best_model)\n",
    "test_model = Wav2Vec2_sound_detection.load_from_checkpoint(best_model, hparams=hparams).cuda().eval()"
   ]
  },
  {
   "cell_type": "code",
   "execution_count": 37,
   "metadata": {},
   "outputs": [],
   "source": [
    "test_dataloader = DataLoader(test_dataset, batch_size=batch_size,\n",
    "                            collate_fn = data_collator,\n",
    "                            shuffle=False, num_workers=0)"
   ]
  },
  {
   "cell_type": "code",
   "execution_count": 38,
   "metadata": {},
   "outputs": [
    {
     "name": "stderr",
     "output_type": "stream",
     "text": [
      "You are using a CUDA device ('NVIDIA RTX A4000') that has Tensor Cores. To properly utilize them, you should set `torch.set_float32_matmul_precision('medium' | 'high')` which will trade-off precision for performance. For more details, read https://pytorch.org/docs/stable/generated/torch.set_float32_matmul_precision.html#torch.set_float32_matmul_precision\n",
      "LOCAL_RANK: 0 - CUDA_VISIBLE_DEVICES: [0]\n",
      "/home/cslab03/anaconda3/envs/coEnv/lib/python3.9/site-packages/pytorch_lightning/trainer/connectors/data_connector.py:224: PossibleUserWarning: The dataloader, test_dataloader 0, does not have many workers which may be a bottleneck. Consider increasing the value of the `num_workers` argument` (try 32 which is the number of cpus on this machine) in the `DataLoader` init to improve performance.\n",
      "  rank_zero_warn(\n"
     ]
    },
    {
     "data": {
      "application/vnd.jupyter.widget-view+json": {
       "model_id": "116cc0a2671142cbb25fb611f96c98d9",
       "version_major": 2,
       "version_minor": 0
      },
      "text/plain": [
       "Testing: 0it [00:00, ?it/s]"
      ]
     },
     "metadata": {},
     "output_type": "display_data"
    },
    {
     "name": "stdout",
     "output_type": "stream",
     "text": [
      "MulticlassConfusionMatrix()\n",
      "────────────────────────────────────────────────────────────────────────────────────────────────────────────────────────\n",
      "       Test metric             DataLoader 0\n",
      "────────────────────────────────────────────────────────────────────────────────────────────────────────────────────────\n",
      "        test_acc            0.9330583810806274\n",
      "         test_f1            0.9269751310348511\n",
      "        test_loss           0.3033825159072876\n",
      "────────────────────────────────────────────────────────────────────────────────────────────────────────────────────────\n"
     ]
    },
    {
     "data": {
      "text/plain": [
       "[{'test_acc': 0.9330583810806274,\n",
       "  'test_f1': 0.9269751310348511,\n",
       "  'test_loss': 0.3033825159072876}]"
      ]
     },
     "execution_count": 38,
     "metadata": {},
     "output_type": "execute_result"
    },
    {
     "data": {
      "image/png": "[encoded data removed]",
      "text/plain": [
       "<Figure size 1000x500 with 2 Axes>"
      ]
     },
     "metadata": {},
     "output_type": "display_data"
    }
   ],
   "source": [
    "trainer.test(test_model, test_dataloader)"
   ]
  },
  {
   "cell_type": "code",
   "execution_count": 39,
   "metadata": {},
   "outputs": [
    {
     "data": {
      "image/png": "[encoded data removed]",
      "text/plain": [
       "<Figure size 1000x500 with 1 Axes>"
      ]
     },
     "metadata": {},
     "output_type": "display_data"
    }
   ],
   "source": [
    "import matplotlib.pyplot as plt\n",
    "\n",
    "# Después de completar el entrenamiento\n",
    "epochs = list(range(1, len(pl_model.train_losses) + 1))\n",
    "\n",
    "plt.figure(figsize=(10, 5))\n",
    "plt.plot(epochs, pl_model.train_losses, label='Train Loss', marker='o')\n",
    "plt.plot(epochs, pl_model.val_losses, label='Validation Loss', marker='o')\n",
    "plt.xlabel('Época')\n",
    "plt.ylabel('Loss')\n",
    "plt.title('Loss vs. Época')\n",
    "plt.legend()\n",
    "plt.grid(True)\n",
    "plt.show()\n"
   ]
  },
  {
   "cell_type": "code",
   "execution_count": null,
   "metadata": {},
   "outputs": [],
   "source": []
  }
 ],
 "metadata": {
  "kernelspec": {
   "display_name": "coEnv",
   "language": "python",
   "name": "python3"
  },
  "language_info": {
   "codemirror_mode": {
    "name": "ipython",
    "version": 3
   },
   "file_extension": ".py",
   "mimetype": "text/x-python",
   "name": "python",
   "nbconvert_exporter": "python",
   "pygments_lexer": "ipython3",
   "version": "3.9.16"
  },
  "orig_nbformat": 4
 },
 "nbformat": 4,
 "nbformat_minor": 2
}
